{
 "cells": [
  {
   "cell_type": "markdown",
   "id": "ca798cf2",
   "metadata": {},
   "source": [
    "DESCRIPTION\n",
    "\n",
    "Reduce the time a Mercedes-Benz spends on the test bench.\n",
    "\n",
    "Problem Statement Scenario:\n",
    "Since the first automobile, the Benz Patent Motor Car in 1886, Mercedes-Benz has stood for important automotive innovations. These include the passenger safety cell with a crumple zone, the airbag, and intelligent assistance systems. Mercedes-Benz applies for nearly 2000 patents per year, making the brand the European leader among premium carmakers. Mercedes-Benz is the leader in the premium car industry. With a huge selection of features and options, customers can choose the customized Mercedes-Benz of their dreams.\n",
    "\n",
    "To ensure the safety and reliability of every unique car configuration before they hit the road, the company’s engineers have developed a robust testing system. As one of the world’s biggest manufacturers of premium cars, safety and efficiency are paramount on Mercedes-Benz’s production lines. However, optimizing the speed of their testing system for many possible feature combinations is complex and time-consuming without a powerful algorithmic approach.\n",
    "\n",
    "You are required to reduce the time that cars spend on the test bench. Others will work with a dataset representing different permutations of features in a Mercedes-Benz car to predict the time it takes to pass testing. Optimal algorithms will contribute to faster testing, resulting in lower carbon dioxide emissions without reducing Mercedes-Benz’s standards.\n",
    "\n",
    "Following actions should be performed:<br>\n",
    "\n",
    "If for any column(s), the variance is equal to zero, then you need to remove those variable(s).<br>\n",
    "Check for null and unique values for test and train sets.<br>\n",
    "Apply label encoder.<br>\n",
    "Perform dimensionality reduction.<br>\n",
    "Predict your test_df values using XGBoost."
   ]
  },
  {
   "cell_type": "code",
   "execution_count": 1,
   "id": "8c2e415e",
   "metadata": {},
   "outputs": [],
   "source": [
    "#Import numpy , pandas and Matplotlib libraries\n",
    "\n",
    "import pandas as pd\n",
    "import numpy as np\n",
    "import matplotlib.pyplot as plt"
   ]
  },
  {
   "cell_type": "code",
   "execution_count": 2,
   "id": "25e9a321",
   "metadata": {},
   "outputs": [],
   "source": [
    "# Read the data which is saved as train and test seperately in two csv files provided\n",
    "\n",
    "train_df = pd.read_csv(\"train.csv\")\n",
    "test_df = pd.read_csv(\"test.csv\")"
   ]
  },
  {
   "cell_type": "code",
   "execution_count": 3,
   "id": "56d22c7d",
   "metadata": {},
   "outputs": [
    {
     "data": {
      "text/html": [
       "<div>\n",
       "<style scoped>\n",
       "    .dataframe tbody tr th:only-of-type {\n",
       "        vertical-align: middle;\n",
       "    }\n",
       "\n",
       "    .dataframe tbody tr th {\n",
       "        vertical-align: top;\n",
       "    }\n",
       "\n",
       "    .dataframe thead th {\n",
       "        text-align: right;\n",
       "    }\n",
       "</style>\n",
       "<table border=\"1\" class=\"dataframe\">\n",
       "  <thead>\n",
       "    <tr style=\"text-align: right;\">\n",
       "      <th></th>\n",
       "      <th>ID</th>\n",
       "      <th>y</th>\n",
       "      <th>X0</th>\n",
       "      <th>X1</th>\n",
       "      <th>X2</th>\n",
       "      <th>X3</th>\n",
       "      <th>X4</th>\n",
       "      <th>X5</th>\n",
       "      <th>X6</th>\n",
       "      <th>X8</th>\n",
       "      <th>...</th>\n",
       "      <th>X375</th>\n",
       "      <th>X376</th>\n",
       "      <th>X377</th>\n",
       "      <th>X378</th>\n",
       "      <th>X379</th>\n",
       "      <th>X380</th>\n",
       "      <th>X382</th>\n",
       "      <th>X383</th>\n",
       "      <th>X384</th>\n",
       "      <th>X385</th>\n",
       "    </tr>\n",
       "  </thead>\n",
       "  <tbody>\n",
       "    <tr>\n",
       "      <th>0</th>\n",
       "      <td>0</td>\n",
       "      <td>130.81</td>\n",
       "      <td>k</td>\n",
       "      <td>v</td>\n",
       "      <td>at</td>\n",
       "      <td>a</td>\n",
       "      <td>d</td>\n",
       "      <td>u</td>\n",
       "      <td>j</td>\n",
       "      <td>o</td>\n",
       "      <td>...</td>\n",
       "      <td>0</td>\n",
       "      <td>0</td>\n",
       "      <td>1</td>\n",
       "      <td>0</td>\n",
       "      <td>0</td>\n",
       "      <td>0</td>\n",
       "      <td>0</td>\n",
       "      <td>0</td>\n",
       "      <td>0</td>\n",
       "      <td>0</td>\n",
       "    </tr>\n",
       "    <tr>\n",
       "      <th>1</th>\n",
       "      <td>6</td>\n",
       "      <td>88.53</td>\n",
       "      <td>k</td>\n",
       "      <td>t</td>\n",
       "      <td>av</td>\n",
       "      <td>e</td>\n",
       "      <td>d</td>\n",
       "      <td>y</td>\n",
       "      <td>l</td>\n",
       "      <td>o</td>\n",
       "      <td>...</td>\n",
       "      <td>1</td>\n",
       "      <td>0</td>\n",
       "      <td>0</td>\n",
       "      <td>0</td>\n",
       "      <td>0</td>\n",
       "      <td>0</td>\n",
       "      <td>0</td>\n",
       "      <td>0</td>\n",
       "      <td>0</td>\n",
       "      <td>0</td>\n",
       "    </tr>\n",
       "    <tr>\n",
       "      <th>2</th>\n",
       "      <td>7</td>\n",
       "      <td>76.26</td>\n",
       "      <td>az</td>\n",
       "      <td>w</td>\n",
       "      <td>n</td>\n",
       "      <td>c</td>\n",
       "      <td>d</td>\n",
       "      <td>x</td>\n",
       "      <td>j</td>\n",
       "      <td>x</td>\n",
       "      <td>...</td>\n",
       "      <td>0</td>\n",
       "      <td>0</td>\n",
       "      <td>0</td>\n",
       "      <td>0</td>\n",
       "      <td>0</td>\n",
       "      <td>0</td>\n",
       "      <td>1</td>\n",
       "      <td>0</td>\n",
       "      <td>0</td>\n",
       "      <td>0</td>\n",
       "    </tr>\n",
       "    <tr>\n",
       "      <th>3</th>\n",
       "      <td>9</td>\n",
       "      <td>80.62</td>\n",
       "      <td>az</td>\n",
       "      <td>t</td>\n",
       "      <td>n</td>\n",
       "      <td>f</td>\n",
       "      <td>d</td>\n",
       "      <td>x</td>\n",
       "      <td>l</td>\n",
       "      <td>e</td>\n",
       "      <td>...</td>\n",
       "      <td>0</td>\n",
       "      <td>0</td>\n",
       "      <td>0</td>\n",
       "      <td>0</td>\n",
       "      <td>0</td>\n",
       "      <td>0</td>\n",
       "      <td>0</td>\n",
       "      <td>0</td>\n",
       "      <td>0</td>\n",
       "      <td>0</td>\n",
       "    </tr>\n",
       "    <tr>\n",
       "      <th>4</th>\n",
       "      <td>13</td>\n",
       "      <td>78.02</td>\n",
       "      <td>az</td>\n",
       "      <td>v</td>\n",
       "      <td>n</td>\n",
       "      <td>f</td>\n",
       "      <td>d</td>\n",
       "      <td>h</td>\n",
       "      <td>d</td>\n",
       "      <td>n</td>\n",
       "      <td>...</td>\n",
       "      <td>0</td>\n",
       "      <td>0</td>\n",
       "      <td>0</td>\n",
       "      <td>0</td>\n",
       "      <td>0</td>\n",
       "      <td>0</td>\n",
       "      <td>0</td>\n",
       "      <td>0</td>\n",
       "      <td>0</td>\n",
       "      <td>0</td>\n",
       "    </tr>\n",
       "  </tbody>\n",
       "</table>\n",
       "<p>5 rows × 378 columns</p>\n",
       "</div>"
      ],
      "text/plain": [
       "   ID       y  X0 X1  X2 X3 X4 X5 X6 X8  ...  X375  X376  X377  X378  X379  \\\n",
       "0   0  130.81   k  v  at  a  d  u  j  o  ...     0     0     1     0     0   \n",
       "1   6   88.53   k  t  av  e  d  y  l  o  ...     1     0     0     0     0   \n",
       "2   7   76.26  az  w   n  c  d  x  j  x  ...     0     0     0     0     0   \n",
       "3   9   80.62  az  t   n  f  d  x  l  e  ...     0     0     0     0     0   \n",
       "4  13   78.02  az  v   n  f  d  h  d  n  ...     0     0     0     0     0   \n",
       "\n",
       "   X380  X382  X383  X384  X385  \n",
       "0     0     0     0     0     0  \n",
       "1     0     0     0     0     0  \n",
       "2     0     1     0     0     0  \n",
       "3     0     0     0     0     0  \n",
       "4     0     0     0     0     0  \n",
       "\n",
       "[5 rows x 378 columns]"
      ]
     },
     "execution_count": 3,
     "metadata": {},
     "output_type": "execute_result"
    }
   ],
   "source": [
    "train_df.head()"
   ]
  },
  {
   "cell_type": "code",
   "execution_count": 4,
   "id": "a9b1abbe",
   "metadata": {},
   "outputs": [
    {
     "data": {
      "text/html": [
       "<div>\n",
       "<style scoped>\n",
       "    .dataframe tbody tr th:only-of-type {\n",
       "        vertical-align: middle;\n",
       "    }\n",
       "\n",
       "    .dataframe tbody tr th {\n",
       "        vertical-align: top;\n",
       "    }\n",
       "\n",
       "    .dataframe thead th {\n",
       "        text-align: right;\n",
       "    }\n",
       "</style>\n",
       "<table border=\"1\" class=\"dataframe\">\n",
       "  <thead>\n",
       "    <tr style=\"text-align: right;\">\n",
       "      <th></th>\n",
       "      <th>ID</th>\n",
       "      <th>X0</th>\n",
       "      <th>X1</th>\n",
       "      <th>X2</th>\n",
       "      <th>X3</th>\n",
       "      <th>X4</th>\n",
       "      <th>X5</th>\n",
       "      <th>X6</th>\n",
       "      <th>X8</th>\n",
       "      <th>X10</th>\n",
       "      <th>...</th>\n",
       "      <th>X375</th>\n",
       "      <th>X376</th>\n",
       "      <th>X377</th>\n",
       "      <th>X378</th>\n",
       "      <th>X379</th>\n",
       "      <th>X380</th>\n",
       "      <th>X382</th>\n",
       "      <th>X383</th>\n",
       "      <th>X384</th>\n",
       "      <th>X385</th>\n",
       "    </tr>\n",
       "  </thead>\n",
       "  <tbody>\n",
       "    <tr>\n",
       "      <th>0</th>\n",
       "      <td>1</td>\n",
       "      <td>az</td>\n",
       "      <td>v</td>\n",
       "      <td>n</td>\n",
       "      <td>f</td>\n",
       "      <td>d</td>\n",
       "      <td>t</td>\n",
       "      <td>a</td>\n",
       "      <td>w</td>\n",
       "      <td>0</td>\n",
       "      <td>...</td>\n",
       "      <td>0</td>\n",
       "      <td>0</td>\n",
       "      <td>0</td>\n",
       "      <td>1</td>\n",
       "      <td>0</td>\n",
       "      <td>0</td>\n",
       "      <td>0</td>\n",
       "      <td>0</td>\n",
       "      <td>0</td>\n",
       "      <td>0</td>\n",
       "    </tr>\n",
       "    <tr>\n",
       "      <th>1</th>\n",
       "      <td>2</td>\n",
       "      <td>t</td>\n",
       "      <td>b</td>\n",
       "      <td>ai</td>\n",
       "      <td>a</td>\n",
       "      <td>d</td>\n",
       "      <td>b</td>\n",
       "      <td>g</td>\n",
       "      <td>y</td>\n",
       "      <td>0</td>\n",
       "      <td>...</td>\n",
       "      <td>0</td>\n",
       "      <td>0</td>\n",
       "      <td>1</td>\n",
       "      <td>0</td>\n",
       "      <td>0</td>\n",
       "      <td>0</td>\n",
       "      <td>0</td>\n",
       "      <td>0</td>\n",
       "      <td>0</td>\n",
       "      <td>0</td>\n",
       "    </tr>\n",
       "    <tr>\n",
       "      <th>2</th>\n",
       "      <td>3</td>\n",
       "      <td>az</td>\n",
       "      <td>v</td>\n",
       "      <td>as</td>\n",
       "      <td>f</td>\n",
       "      <td>d</td>\n",
       "      <td>a</td>\n",
       "      <td>j</td>\n",
       "      <td>j</td>\n",
       "      <td>0</td>\n",
       "      <td>...</td>\n",
       "      <td>0</td>\n",
       "      <td>0</td>\n",
       "      <td>0</td>\n",
       "      <td>1</td>\n",
       "      <td>0</td>\n",
       "      <td>0</td>\n",
       "      <td>0</td>\n",
       "      <td>0</td>\n",
       "      <td>0</td>\n",
       "      <td>0</td>\n",
       "    </tr>\n",
       "    <tr>\n",
       "      <th>3</th>\n",
       "      <td>4</td>\n",
       "      <td>az</td>\n",
       "      <td>l</td>\n",
       "      <td>n</td>\n",
       "      <td>f</td>\n",
       "      <td>d</td>\n",
       "      <td>z</td>\n",
       "      <td>l</td>\n",
       "      <td>n</td>\n",
       "      <td>0</td>\n",
       "      <td>...</td>\n",
       "      <td>0</td>\n",
       "      <td>0</td>\n",
       "      <td>0</td>\n",
       "      <td>1</td>\n",
       "      <td>0</td>\n",
       "      <td>0</td>\n",
       "      <td>0</td>\n",
       "      <td>0</td>\n",
       "      <td>0</td>\n",
       "      <td>0</td>\n",
       "    </tr>\n",
       "    <tr>\n",
       "      <th>4</th>\n",
       "      <td>5</td>\n",
       "      <td>w</td>\n",
       "      <td>s</td>\n",
       "      <td>as</td>\n",
       "      <td>c</td>\n",
       "      <td>d</td>\n",
       "      <td>y</td>\n",
       "      <td>i</td>\n",
       "      <td>m</td>\n",
       "      <td>0</td>\n",
       "      <td>...</td>\n",
       "      <td>1</td>\n",
       "      <td>0</td>\n",
       "      <td>0</td>\n",
       "      <td>0</td>\n",
       "      <td>0</td>\n",
       "      <td>0</td>\n",
       "      <td>0</td>\n",
       "      <td>0</td>\n",
       "      <td>0</td>\n",
       "      <td>0</td>\n",
       "    </tr>\n",
       "  </tbody>\n",
       "</table>\n",
       "<p>5 rows × 377 columns</p>\n",
       "</div>"
      ],
      "text/plain": [
       "   ID  X0 X1  X2 X3 X4 X5 X6 X8  X10  ...  X375  X376  X377  X378  X379  X380  \\\n",
       "0   1  az  v   n  f  d  t  a  w    0  ...     0     0     0     1     0     0   \n",
       "1   2   t  b  ai  a  d  b  g  y    0  ...     0     0     1     0     0     0   \n",
       "2   3  az  v  as  f  d  a  j  j    0  ...     0     0     0     1     0     0   \n",
       "3   4  az  l   n  f  d  z  l  n    0  ...     0     0     0     1     0     0   \n",
       "4   5   w  s  as  c  d  y  i  m    0  ...     1     0     0     0     0     0   \n",
       "\n",
       "   X382  X383  X384  X385  \n",
       "0     0     0     0     0  \n",
       "1     0     0     0     0  \n",
       "2     0     0     0     0  \n",
       "3     0     0     0     0  \n",
       "4     0     0     0     0  \n",
       "\n",
       "[5 rows x 377 columns]"
      ]
     },
     "execution_count": 4,
     "metadata": {},
     "output_type": "execute_result"
    }
   ],
   "source": [
    "test_df.head()"
   ]
  },
  {
   "cell_type": "markdown",
   "id": "edf886dd",
   "metadata": {},
   "source": [
    "As per the above review of the dataframe head - column Y for the target variable is not part of the test data."
   ]
  },
  {
   "cell_type": "code",
   "execution_count": 5,
   "id": "56bacc63",
   "metadata": {},
   "outputs": [
    {
     "name": "stdout",
     "output_type": "stream",
     "text": [
      "(4209, 378)\n",
      "(4209, 377)\n"
     ]
    }
   ],
   "source": [
    "print(train_df.shape)\n",
    "print(test_df.shape)"
   ]
  },
  {
   "cell_type": "code",
   "execution_count": 8,
   "id": "838f86e3",
   "metadata": {},
   "outputs": [],
   "source": [
    "col_not_in_test = []\n",
    "for col in train_df.columns:\n",
    "    if col not in test_df.columns:\n",
    "        col_not_in_test.append(col)"
   ]
  },
  {
   "cell_type": "code",
   "execution_count": 9,
   "id": "03c71b2a",
   "metadata": {},
   "outputs": [
    {
     "data": {
      "text/plain": [
       "['y']"
      ]
     },
     "execution_count": 9,
     "metadata": {},
     "output_type": "execute_result"
    }
   ],
   "source": [
    "col_not_in_test"
   ]
  },
  {
   "cell_type": "markdown",
   "id": "5b123cb5",
   "metadata": {},
   "source": [
    "Again verified that the only column missing in the Test data is the target variable y. Also note that total number of features/input vairables is 377. Under this study we seek to find principal components and then reduce the data dimensionality to ensure that we keep only this Principal components that account for maximum explained variance in the original data"
   ]
  },
  {
   "cell_type": "markdown",
   "id": "377ec1d1",
   "metadata": {},
   "source": [
    "### Task 1 : If for any column(s), the variance is equal to zero, then you need to remove those variable(s).<h2>"
   ]
  },
  {
   "cell_type": "code",
   "execution_count": 10,
   "id": "d7b97011",
   "metadata": {
    "scrolled": true
   },
   "outputs": [],
   "source": [
    "#Find the columns with only 1 unique value i.e. no variances\n",
    "\n",
    "columns_no_variance = train_df.columns[train_df.nunique()==1]"
   ]
  },
  {
   "cell_type": "code",
   "execution_count": 11,
   "id": "5343ee6b",
   "metadata": {},
   "outputs": [
    {
     "data": {
      "text/plain": [
       "Index(['X11', 'X93', 'X107', 'X233', 'X235', 'X268', 'X289', 'X290', 'X293',\n",
       "       'X297', 'X330', 'X347'],\n",
       "      dtype='object')"
      ]
     },
     "execution_count": 11,
     "metadata": {},
     "output_type": "execute_result"
    }
   ],
   "source": [
    "columns_no_variance"
   ]
  },
  {
   "cell_type": "code",
   "execution_count": 12,
   "id": "cbd2e2a3",
   "metadata": {},
   "outputs": [
    {
     "data": {
      "text/html": [
       "<div>\n",
       "<style scoped>\n",
       "    .dataframe tbody tr th:only-of-type {\n",
       "        vertical-align: middle;\n",
       "    }\n",
       "\n",
       "    .dataframe tbody tr th {\n",
       "        vertical-align: top;\n",
       "    }\n",
       "\n",
       "    .dataframe thead th {\n",
       "        text-align: right;\n",
       "    }\n",
       "</style>\n",
       "<table border=\"1\" class=\"dataframe\">\n",
       "  <thead>\n",
       "    <tr style=\"text-align: right;\">\n",
       "      <th></th>\n",
       "      <th>X11</th>\n",
       "      <th>X93</th>\n",
       "      <th>X107</th>\n",
       "      <th>X233</th>\n",
       "      <th>X235</th>\n",
       "      <th>X268</th>\n",
       "      <th>X289</th>\n",
       "      <th>X290</th>\n",
       "      <th>X293</th>\n",
       "      <th>X297</th>\n",
       "      <th>X330</th>\n",
       "      <th>X347</th>\n",
       "    </tr>\n",
       "  </thead>\n",
       "  <tbody>\n",
       "    <tr>\n",
       "      <th>0</th>\n",
       "      <td>0</td>\n",
       "      <td>0</td>\n",
       "      <td>0</td>\n",
       "      <td>0</td>\n",
       "      <td>0</td>\n",
       "      <td>0</td>\n",
       "      <td>0</td>\n",
       "      <td>0</td>\n",
       "      <td>0</td>\n",
       "      <td>0</td>\n",
       "      <td>0</td>\n",
       "      <td>0</td>\n",
       "    </tr>\n",
       "    <tr>\n",
       "      <th>1</th>\n",
       "      <td>0</td>\n",
       "      <td>0</td>\n",
       "      <td>0</td>\n",
       "      <td>0</td>\n",
       "      <td>0</td>\n",
       "      <td>0</td>\n",
       "      <td>0</td>\n",
       "      <td>0</td>\n",
       "      <td>0</td>\n",
       "      <td>0</td>\n",
       "      <td>0</td>\n",
       "      <td>0</td>\n",
       "    </tr>\n",
       "    <tr>\n",
       "      <th>2</th>\n",
       "      <td>0</td>\n",
       "      <td>0</td>\n",
       "      <td>0</td>\n",
       "      <td>0</td>\n",
       "      <td>0</td>\n",
       "      <td>0</td>\n",
       "      <td>0</td>\n",
       "      <td>0</td>\n",
       "      <td>0</td>\n",
       "      <td>0</td>\n",
       "      <td>0</td>\n",
       "      <td>0</td>\n",
       "    </tr>\n",
       "    <tr>\n",
       "      <th>3</th>\n",
       "      <td>0</td>\n",
       "      <td>0</td>\n",
       "      <td>0</td>\n",
       "      <td>0</td>\n",
       "      <td>0</td>\n",
       "      <td>0</td>\n",
       "      <td>0</td>\n",
       "      <td>0</td>\n",
       "      <td>0</td>\n",
       "      <td>0</td>\n",
       "      <td>0</td>\n",
       "      <td>0</td>\n",
       "    </tr>\n",
       "    <tr>\n",
       "      <th>4</th>\n",
       "      <td>0</td>\n",
       "      <td>0</td>\n",
       "      <td>0</td>\n",
       "      <td>0</td>\n",
       "      <td>0</td>\n",
       "      <td>0</td>\n",
       "      <td>0</td>\n",
       "      <td>0</td>\n",
       "      <td>0</td>\n",
       "      <td>0</td>\n",
       "      <td>0</td>\n",
       "      <td>0</td>\n",
       "    </tr>\n",
       "    <tr>\n",
       "      <th>...</th>\n",
       "      <td>...</td>\n",
       "      <td>...</td>\n",
       "      <td>...</td>\n",
       "      <td>...</td>\n",
       "      <td>...</td>\n",
       "      <td>...</td>\n",
       "      <td>...</td>\n",
       "      <td>...</td>\n",
       "      <td>...</td>\n",
       "      <td>...</td>\n",
       "      <td>...</td>\n",
       "      <td>...</td>\n",
       "    </tr>\n",
       "    <tr>\n",
       "      <th>4204</th>\n",
       "      <td>0</td>\n",
       "      <td>0</td>\n",
       "      <td>0</td>\n",
       "      <td>0</td>\n",
       "      <td>0</td>\n",
       "      <td>0</td>\n",
       "      <td>0</td>\n",
       "      <td>0</td>\n",
       "      <td>0</td>\n",
       "      <td>0</td>\n",
       "      <td>0</td>\n",
       "      <td>0</td>\n",
       "    </tr>\n",
       "    <tr>\n",
       "      <th>4205</th>\n",
       "      <td>0</td>\n",
       "      <td>0</td>\n",
       "      <td>0</td>\n",
       "      <td>0</td>\n",
       "      <td>0</td>\n",
       "      <td>0</td>\n",
       "      <td>0</td>\n",
       "      <td>0</td>\n",
       "      <td>0</td>\n",
       "      <td>0</td>\n",
       "      <td>0</td>\n",
       "      <td>0</td>\n",
       "    </tr>\n",
       "    <tr>\n",
       "      <th>4206</th>\n",
       "      <td>0</td>\n",
       "      <td>0</td>\n",
       "      <td>0</td>\n",
       "      <td>0</td>\n",
       "      <td>0</td>\n",
       "      <td>0</td>\n",
       "      <td>0</td>\n",
       "      <td>0</td>\n",
       "      <td>0</td>\n",
       "      <td>0</td>\n",
       "      <td>0</td>\n",
       "      <td>0</td>\n",
       "    </tr>\n",
       "    <tr>\n",
       "      <th>4207</th>\n",
       "      <td>0</td>\n",
       "      <td>0</td>\n",
       "      <td>0</td>\n",
       "      <td>0</td>\n",
       "      <td>0</td>\n",
       "      <td>0</td>\n",
       "      <td>0</td>\n",
       "      <td>0</td>\n",
       "      <td>0</td>\n",
       "      <td>0</td>\n",
       "      <td>0</td>\n",
       "      <td>0</td>\n",
       "    </tr>\n",
       "    <tr>\n",
       "      <th>4208</th>\n",
       "      <td>0</td>\n",
       "      <td>0</td>\n",
       "      <td>0</td>\n",
       "      <td>0</td>\n",
       "      <td>0</td>\n",
       "      <td>0</td>\n",
       "      <td>0</td>\n",
       "      <td>0</td>\n",
       "      <td>0</td>\n",
       "      <td>0</td>\n",
       "      <td>0</td>\n",
       "      <td>0</td>\n",
       "    </tr>\n",
       "  </tbody>\n",
       "</table>\n",
       "<p>4209 rows × 12 columns</p>\n",
       "</div>"
      ],
      "text/plain": [
       "      X11  X93  X107  X233  X235  X268  X289  X290  X293  X297  X330  X347\n",
       "0       0    0     0     0     0     0     0     0     0     0     0     0\n",
       "1       0    0     0     0     0     0     0     0     0     0     0     0\n",
       "2       0    0     0     0     0     0     0     0     0     0     0     0\n",
       "3       0    0     0     0     0     0     0     0     0     0     0     0\n",
       "4       0    0     0     0     0     0     0     0     0     0     0     0\n",
       "...   ...  ...   ...   ...   ...   ...   ...   ...   ...   ...   ...   ...\n",
       "4204    0    0     0     0     0     0     0     0     0     0     0     0\n",
       "4205    0    0     0     0     0     0     0     0     0     0     0     0\n",
       "4206    0    0     0     0     0     0     0     0     0     0     0     0\n",
       "4207    0    0     0     0     0     0     0     0     0     0     0     0\n",
       "4208    0    0     0     0     0     0     0     0     0     0     0     0\n",
       "\n",
       "[4209 rows x 12 columns]"
      ]
     },
     "execution_count": 12,
     "metadata": {},
     "output_type": "execute_result"
    }
   ],
   "source": [
    "train_df[columns_no_variance]"
   ]
  },
  {
   "cell_type": "code",
   "execution_count": 13,
   "id": "fdc7198d",
   "metadata": {},
   "outputs": [
    {
     "data": {
      "text/html": [
       "<div>\n",
       "<style scoped>\n",
       "    .dataframe tbody tr th:only-of-type {\n",
       "        vertical-align: middle;\n",
       "    }\n",
       "\n",
       "    .dataframe tbody tr th {\n",
       "        vertical-align: top;\n",
       "    }\n",
       "\n",
       "    .dataframe thead th {\n",
       "        text-align: right;\n",
       "    }\n",
       "</style>\n",
       "<table border=\"1\" class=\"dataframe\">\n",
       "  <thead>\n",
       "    <tr style=\"text-align: right;\">\n",
       "      <th></th>\n",
       "      <th>X11</th>\n",
       "      <th>X93</th>\n",
       "      <th>X107</th>\n",
       "      <th>X233</th>\n",
       "      <th>X235</th>\n",
       "      <th>X268</th>\n",
       "      <th>X289</th>\n",
       "      <th>X290</th>\n",
       "      <th>X293</th>\n",
       "      <th>X297</th>\n",
       "      <th>X330</th>\n",
       "      <th>X347</th>\n",
       "    </tr>\n",
       "  </thead>\n",
       "  <tbody>\n",
       "    <tr>\n",
       "      <th>count</th>\n",
       "      <td>4209.0</td>\n",
       "      <td>4209.0</td>\n",
       "      <td>4209.0</td>\n",
       "      <td>4209.0</td>\n",
       "      <td>4209.0</td>\n",
       "      <td>4209.0</td>\n",
       "      <td>4209.0</td>\n",
       "      <td>4209.0</td>\n",
       "      <td>4209.0</td>\n",
       "      <td>4209.0</td>\n",
       "      <td>4209.0</td>\n",
       "      <td>4209.0</td>\n",
       "    </tr>\n",
       "    <tr>\n",
       "      <th>mean</th>\n",
       "      <td>0.0</td>\n",
       "      <td>0.0</td>\n",
       "      <td>0.0</td>\n",
       "      <td>0.0</td>\n",
       "      <td>0.0</td>\n",
       "      <td>0.0</td>\n",
       "      <td>0.0</td>\n",
       "      <td>0.0</td>\n",
       "      <td>0.0</td>\n",
       "      <td>0.0</td>\n",
       "      <td>0.0</td>\n",
       "      <td>0.0</td>\n",
       "    </tr>\n",
       "    <tr>\n",
       "      <th>std</th>\n",
       "      <td>0.0</td>\n",
       "      <td>0.0</td>\n",
       "      <td>0.0</td>\n",
       "      <td>0.0</td>\n",
       "      <td>0.0</td>\n",
       "      <td>0.0</td>\n",
       "      <td>0.0</td>\n",
       "      <td>0.0</td>\n",
       "      <td>0.0</td>\n",
       "      <td>0.0</td>\n",
       "      <td>0.0</td>\n",
       "      <td>0.0</td>\n",
       "    </tr>\n",
       "    <tr>\n",
       "      <th>min</th>\n",
       "      <td>0.0</td>\n",
       "      <td>0.0</td>\n",
       "      <td>0.0</td>\n",
       "      <td>0.0</td>\n",
       "      <td>0.0</td>\n",
       "      <td>0.0</td>\n",
       "      <td>0.0</td>\n",
       "      <td>0.0</td>\n",
       "      <td>0.0</td>\n",
       "      <td>0.0</td>\n",
       "      <td>0.0</td>\n",
       "      <td>0.0</td>\n",
       "    </tr>\n",
       "    <tr>\n",
       "      <th>25%</th>\n",
       "      <td>0.0</td>\n",
       "      <td>0.0</td>\n",
       "      <td>0.0</td>\n",
       "      <td>0.0</td>\n",
       "      <td>0.0</td>\n",
       "      <td>0.0</td>\n",
       "      <td>0.0</td>\n",
       "      <td>0.0</td>\n",
       "      <td>0.0</td>\n",
       "      <td>0.0</td>\n",
       "      <td>0.0</td>\n",
       "      <td>0.0</td>\n",
       "    </tr>\n",
       "    <tr>\n",
       "      <th>50%</th>\n",
       "      <td>0.0</td>\n",
       "      <td>0.0</td>\n",
       "      <td>0.0</td>\n",
       "      <td>0.0</td>\n",
       "      <td>0.0</td>\n",
       "      <td>0.0</td>\n",
       "      <td>0.0</td>\n",
       "      <td>0.0</td>\n",
       "      <td>0.0</td>\n",
       "      <td>0.0</td>\n",
       "      <td>0.0</td>\n",
       "      <td>0.0</td>\n",
       "    </tr>\n",
       "    <tr>\n",
       "      <th>75%</th>\n",
       "      <td>0.0</td>\n",
       "      <td>0.0</td>\n",
       "      <td>0.0</td>\n",
       "      <td>0.0</td>\n",
       "      <td>0.0</td>\n",
       "      <td>0.0</td>\n",
       "      <td>0.0</td>\n",
       "      <td>0.0</td>\n",
       "      <td>0.0</td>\n",
       "      <td>0.0</td>\n",
       "      <td>0.0</td>\n",
       "      <td>0.0</td>\n",
       "    </tr>\n",
       "    <tr>\n",
       "      <th>max</th>\n",
       "      <td>0.0</td>\n",
       "      <td>0.0</td>\n",
       "      <td>0.0</td>\n",
       "      <td>0.0</td>\n",
       "      <td>0.0</td>\n",
       "      <td>0.0</td>\n",
       "      <td>0.0</td>\n",
       "      <td>0.0</td>\n",
       "      <td>0.0</td>\n",
       "      <td>0.0</td>\n",
       "      <td>0.0</td>\n",
       "      <td>0.0</td>\n",
       "    </tr>\n",
       "  </tbody>\n",
       "</table>\n",
       "</div>"
      ],
      "text/plain": [
       "          X11     X93    X107    X233    X235    X268    X289    X290    X293  \\\n",
       "count  4209.0  4209.0  4209.0  4209.0  4209.0  4209.0  4209.0  4209.0  4209.0   \n",
       "mean      0.0     0.0     0.0     0.0     0.0     0.0     0.0     0.0     0.0   \n",
       "std       0.0     0.0     0.0     0.0     0.0     0.0     0.0     0.0     0.0   \n",
       "min       0.0     0.0     0.0     0.0     0.0     0.0     0.0     0.0     0.0   \n",
       "25%       0.0     0.0     0.0     0.0     0.0     0.0     0.0     0.0     0.0   \n",
       "50%       0.0     0.0     0.0     0.0     0.0     0.0     0.0     0.0     0.0   \n",
       "75%       0.0     0.0     0.0     0.0     0.0     0.0     0.0     0.0     0.0   \n",
       "max       0.0     0.0     0.0     0.0     0.0     0.0     0.0     0.0     0.0   \n",
       "\n",
       "         X297    X330    X347  \n",
       "count  4209.0  4209.0  4209.0  \n",
       "mean      0.0     0.0     0.0  \n",
       "std       0.0     0.0     0.0  \n",
       "min       0.0     0.0     0.0  \n",
       "25%       0.0     0.0     0.0  \n",
       "50%       0.0     0.0     0.0  \n",
       "75%       0.0     0.0     0.0  \n",
       "max       0.0     0.0     0.0  "
      ]
     },
     "execution_count": 13,
     "metadata": {},
     "output_type": "execute_result"
    }
   ],
   "source": [
    "train_df[columns_no_variance].describe()"
   ]
  },
  {
   "cell_type": "code",
   "execution_count": 14,
   "id": "564d51d4",
   "metadata": {
    "scrolled": true
   },
   "outputs": [],
   "source": [
    "# With the above list of columns we can drop them from the original dataset as they do not have variance\n",
    "\n",
    "train_df.drop(columns_no_variance,axis=1,inplace=True)"
   ]
  },
  {
   "cell_type": "code",
   "execution_count": 15,
   "id": "8038e939",
   "metadata": {},
   "outputs": [],
   "source": [
    "#Same drop needs to be applied for the test data frame.\n",
    "\n",
    "test_df.drop(columns_no_variance,axis=1,inplace=True)"
   ]
  },
  {
   "cell_type": "code",
   "execution_count": 16,
   "id": "ccbd072a",
   "metadata": {},
   "outputs": [
    {
     "name": "stdout",
     "output_type": "stream",
     "text": [
      "(4209, 366)\n",
      "(4209, 365)\n"
     ]
    }
   ],
   "source": [
    "print(train_df.shape)\n",
    "print(test_df.shape)"
   ]
  },
  {
   "cell_type": "markdown",
   "id": "833f1d26",
   "metadata": {},
   "source": [
    "### Task 2 : Check for null and unique values for test and train sets.\n"
   ]
  },
  {
   "cell_type": "code",
   "execution_count": 17,
   "id": "b5e1eac1",
   "metadata": {},
   "outputs": [
    {
     "data": {
      "text/plain": [
       "Index(['ID', 'y', 'X0', 'X1', 'X2', 'X3', 'X4', 'X5', 'X6', 'X8',\n",
       "       ...\n",
       "       'X375', 'X376', 'X377', 'X378', 'X379', 'X380', 'X382', 'X383', 'X384',\n",
       "       'X385'],\n",
       "      dtype='object', length=366)"
      ]
     },
     "execution_count": 17,
     "metadata": {},
     "output_type": "execute_result"
    }
   ],
   "source": [
    "train_df.columns[train_df.columns.notnull()]"
   ]
  },
  {
   "cell_type": "code",
   "execution_count": 18,
   "id": "f390a517",
   "metadata": {
    "scrolled": true
   },
   "outputs": [
    {
     "data": {
      "text/plain": [
       "Index(['ID', 'X0', 'X1', 'X2', 'X3', 'X4', 'X5', 'X6', 'X8', 'X10',\n",
       "       ...\n",
       "       'X375', 'X376', 'X377', 'X378', 'X379', 'X380', 'X382', 'X383', 'X384',\n",
       "       'X385'],\n",
       "      dtype='object', length=365)"
      ]
     },
     "execution_count": 18,
     "metadata": {},
     "output_type": "execute_result"
    }
   ],
   "source": [
    "test_df.columns[test_df.columns.notnull()]"
   ]
  },
  {
   "cell_type": "code",
   "execution_count": 19,
   "id": "2c332ced",
   "metadata": {
    "scrolled": true
   },
   "outputs": [
    {
     "data": {
      "text/plain": [
       "ID      0\n",
       "y       0\n",
       "X0      0\n",
       "X1      0\n",
       "X2      0\n",
       "       ..\n",
       "X380    0\n",
       "X382    0\n",
       "X383    0\n",
       "X384    0\n",
       "X385    0\n",
       "Length: 366, dtype: int64"
      ]
     },
     "execution_count": 19,
     "metadata": {},
     "output_type": "execute_result"
    }
   ],
   "source": [
    "#Checking columns with null values in Train dataset\n",
    "\n",
    "train_null = train_df.isnull().sum()\n",
    "train_null"
   ]
  },
  {
   "cell_type": "code",
   "execution_count": 20,
   "id": "65902878",
   "metadata": {},
   "outputs": [
    {
     "name": "stdout",
     "output_type": "stream",
     "text": [
      "Series([], dtype: int64)\n",
      "0\n"
     ]
    }
   ],
   "source": [
    "print(train_null[train_null!=0])\n",
    "print(len(train_null[train_null!=0]))"
   ]
  },
  {
   "cell_type": "code",
   "execution_count": 21,
   "id": "ddb5ab5f",
   "metadata": {},
   "outputs": [
    {
     "data": {
      "text/plain": [
       "ID      0\n",
       "X0      0\n",
       "X1      0\n",
       "X2      0\n",
       "X3      0\n",
       "       ..\n",
       "X380    0\n",
       "X382    0\n",
       "X383    0\n",
       "X384    0\n",
       "X385    0\n",
       "Length: 365, dtype: int64"
      ]
     },
     "execution_count": 21,
     "metadata": {},
     "output_type": "execute_result"
    }
   ],
   "source": [
    "#Checking columns with null values in Test dataset\n",
    "\n",
    "test_null = test_df.isnull().sum()\n",
    "test_null"
   ]
  },
  {
   "cell_type": "code",
   "execution_count": 22,
   "id": "552440ff",
   "metadata": {},
   "outputs": [
    {
     "name": "stdout",
     "output_type": "stream",
     "text": [
      "Series([], dtype: int64)\n",
      "0\n"
     ]
    }
   ],
   "source": [
    "print(test_null[test_null!=0])\n",
    "print(len(test_null[test_null!=0]))"
   ]
  },
  {
   "cell_type": "markdown",
   "id": "ce577e1e",
   "metadata": {},
   "source": [
    "Based on above checks we confirm - There are no columns with null values in the Train and test sets"
   ]
  },
  {
   "cell_type": "code",
   "execution_count": 23,
   "id": "389356a3",
   "metadata": {},
   "outputs": [],
   "source": [
    "# Review the unique values of the Train and test datasets\n",
    "\n",
    "train_unique_values = train_df.nunique()\n",
    "test_unique_values = test_df.nunique()"
   ]
  },
  {
   "cell_type": "code",
   "execution_count": 24,
   "id": "064a1683",
   "metadata": {},
   "outputs": [
    {
     "data": {
      "text/plain": [
       "ID      4209\n",
       "y       2545\n",
       "X0        47\n",
       "X1        27\n",
       "X2        44\n",
       "        ... \n",
       "X380       2\n",
       "X382       2\n",
       "X383       2\n",
       "X384       2\n",
       "X385       2\n",
       "Length: 366, dtype: int64"
      ]
     },
     "execution_count": 24,
     "metadata": {},
     "output_type": "execute_result"
    }
   ],
   "source": [
    "train_unique_values"
   ]
  },
  {
   "cell_type": "code",
   "execution_count": 25,
   "id": "5e0bf957",
   "metadata": {},
   "outputs": [
    {
     "data": {
      "text/plain": [
       "ID      4209\n",
       "X0        49\n",
       "X1        27\n",
       "X2        45\n",
       "X3         7\n",
       "        ... \n",
       "X380       2\n",
       "X382       2\n",
       "X383       2\n",
       "X384       2\n",
       "X385       2\n",
       "Length: 365, dtype: int64"
      ]
     },
     "execution_count": 25,
     "metadata": {},
     "output_type": "execute_result"
    }
   ],
   "source": [
    "test_unique_values"
   ]
  },
  {
   "cell_type": "markdown",
   "id": "566b284c",
   "metadata": {},
   "source": [
    "##### Plotting the unique values for test and train sets. "
   ]
  },
  {
   "cell_type": "code",
   "execution_count": 26,
   "id": "551c4fcb",
   "metadata": {
    "scrolled": false
   },
   "outputs": [
    {
     "data": {
      "image/png": "[encoded data removed]",
      "text/plain": [
       "<Figure size 1512x648 with 2 Axes>"
      ]
     },
     "metadata": {
      "needs_background": "light"
     },
     "output_type": "display_data"
    }
   ],
   "source": [
    "# Excluding column \"ID\" from both train and test\n",
    "# Excluding column target \"y\" from train as this has huge number of unique values compared to other columns\n",
    "\n",
    "x1 = range(len(train_df.columns.drop([\"ID\",\"y\"])))\n",
    "Y1 = train_unique_values[2:]\n",
    "x2 = range(len(test_df.columns.drop(\"ID\")))\n",
    "Y2 = test_unique_values[1:]\n",
    "\n",
    "plt.figure(figsize=(21,9))\n",
    "fig1 = plt.subplot(1,2,1)\n",
    "fig1.bar(x1,Y1,width=1)\n",
    "plt.title(\"Unique values for Train dataset parameters\")\n",
    "plt.xlabel(\"Training data columns\")\n",
    "plt.ylabel(\"Number of Unique values\")\n",
    "\n",
    "fig2 = plt.subplot(1,2,2)\n",
    "fig2.bar(x2,Y2,width=1,color='orange')\n",
    "plt.title(\"Unique values for Test dataset parameters\")\n",
    "plt.xlabel(\"Testing data columns\")\n",
    "plt.ylabel(\"Number of Unique values\")\n",
    "plt.show()"
   ]
  },
  {
   "cell_type": "markdown",
   "id": "32a92cef",
   "metadata": {},
   "source": [
    "### Task 3 : Apply label encoder."
   ]
  },
  {
   "cell_type": "code",
   "execution_count": 27,
   "id": "46d06adc",
   "metadata": {},
   "outputs": [],
   "source": [
    "# Import preprocessing from Sci-kit learn which has the LabelEncoder class and create new object\n",
    "\n",
    "from sklearn import preprocessing\n",
    "label_enc = preprocessing.LabelEncoder()"
   ]
  },
  {
   "cell_type": "code",
   "execution_count": 28,
   "id": "24e73737",
   "metadata": {
    "scrolled": true
   },
   "outputs": [
    {
     "data": {
      "text/plain": [
       "array(['X0', 'X1', 'X2', 'X3', 'X4', 'X5', 'X6', 'X8'], dtype=object)"
      ]
     },
     "execution_count": 28,
     "metadata": {},
     "output_type": "execute_result"
    }
   ],
   "source": [
    "# Identify columns with categorical data to apply label encoding\n",
    "\n",
    "train_category_cols= np.array(train_df.select_dtypes('O').columns)\n",
    "train_category_cols"
   ]
  },
  {
   "cell_type": "code",
   "execution_count": 29,
   "id": "9ed7b090",
   "metadata": {},
   "outputs": [],
   "source": [
    "# Apply label encoder to the categorical columns identified\n",
    "\n",
    "for col in train_category_cols:\n",
    "    train_df[col]=label_enc.fit_transform(train_df[col])"
   ]
  },
  {
   "cell_type": "code",
   "execution_count": 30,
   "id": "f351f950",
   "metadata": {
    "scrolled": true
   },
   "outputs": [
    {
     "data": {
      "text/html": [
       "<div>\n",
       "<style scoped>\n",
       "    .dataframe tbody tr th:only-of-type {\n",
       "        vertical-align: middle;\n",
       "    }\n",
       "\n",
       "    .dataframe tbody tr th {\n",
       "        vertical-align: top;\n",
       "    }\n",
       "\n",
       "    .dataframe thead th {\n",
       "        text-align: right;\n",
       "    }\n",
       "</style>\n",
       "<table border=\"1\" class=\"dataframe\">\n",
       "  <thead>\n",
       "    <tr style=\"text-align: right;\">\n",
       "      <th></th>\n",
       "      <th>X0</th>\n",
       "      <th>X1</th>\n",
       "      <th>X2</th>\n",
       "      <th>X3</th>\n",
       "      <th>X4</th>\n",
       "      <th>X5</th>\n",
       "      <th>X6</th>\n",
       "      <th>X8</th>\n",
       "    </tr>\n",
       "  </thead>\n",
       "  <tbody>\n",
       "    <tr>\n",
       "      <th>0</th>\n",
       "      <td>32</td>\n",
       "      <td>23</td>\n",
       "      <td>17</td>\n",
       "      <td>0</td>\n",
       "      <td>3</td>\n",
       "      <td>24</td>\n",
       "      <td>9</td>\n",
       "      <td>14</td>\n",
       "    </tr>\n",
       "    <tr>\n",
       "      <th>1</th>\n",
       "      <td>32</td>\n",
       "      <td>21</td>\n",
       "      <td>19</td>\n",
       "      <td>4</td>\n",
       "      <td>3</td>\n",
       "      <td>28</td>\n",
       "      <td>11</td>\n",
       "      <td>14</td>\n",
       "    </tr>\n",
       "    <tr>\n",
       "      <th>2</th>\n",
       "      <td>20</td>\n",
       "      <td>24</td>\n",
       "      <td>34</td>\n",
       "      <td>2</td>\n",
       "      <td>3</td>\n",
       "      <td>27</td>\n",
       "      <td>9</td>\n",
       "      <td>23</td>\n",
       "    </tr>\n",
       "    <tr>\n",
       "      <th>3</th>\n",
       "      <td>20</td>\n",
       "      <td>21</td>\n",
       "      <td>34</td>\n",
       "      <td>5</td>\n",
       "      <td>3</td>\n",
       "      <td>27</td>\n",
       "      <td>11</td>\n",
       "      <td>4</td>\n",
       "    </tr>\n",
       "    <tr>\n",
       "      <th>4</th>\n",
       "      <td>20</td>\n",
       "      <td>23</td>\n",
       "      <td>34</td>\n",
       "      <td>5</td>\n",
       "      <td>3</td>\n",
       "      <td>12</td>\n",
       "      <td>3</td>\n",
       "      <td>13</td>\n",
       "    </tr>\n",
       "    <tr>\n",
       "      <th>...</th>\n",
       "      <td>...</td>\n",
       "      <td>...</td>\n",
       "      <td>...</td>\n",
       "      <td>...</td>\n",
       "      <td>...</td>\n",
       "      <td>...</td>\n",
       "      <td>...</td>\n",
       "      <td>...</td>\n",
       "    </tr>\n",
       "    <tr>\n",
       "      <th>4204</th>\n",
       "      <td>8</td>\n",
       "      <td>20</td>\n",
       "      <td>16</td>\n",
       "      <td>2</td>\n",
       "      <td>3</td>\n",
       "      <td>0</td>\n",
       "      <td>3</td>\n",
       "      <td>16</td>\n",
       "    </tr>\n",
       "    <tr>\n",
       "      <th>4205</th>\n",
       "      <td>31</td>\n",
       "      <td>16</td>\n",
       "      <td>40</td>\n",
       "      <td>3</td>\n",
       "      <td>3</td>\n",
       "      <td>0</td>\n",
       "      <td>7</td>\n",
       "      <td>7</td>\n",
       "    </tr>\n",
       "    <tr>\n",
       "      <th>4206</th>\n",
       "      <td>8</td>\n",
       "      <td>23</td>\n",
       "      <td>38</td>\n",
       "      <td>0</td>\n",
       "      <td>3</td>\n",
       "      <td>0</td>\n",
       "      <td>6</td>\n",
       "      <td>4</td>\n",
       "    </tr>\n",
       "    <tr>\n",
       "      <th>4207</th>\n",
       "      <td>9</td>\n",
       "      <td>19</td>\n",
       "      <td>25</td>\n",
       "      <td>5</td>\n",
       "      <td>3</td>\n",
       "      <td>0</td>\n",
       "      <td>11</td>\n",
       "      <td>20</td>\n",
       "    </tr>\n",
       "    <tr>\n",
       "      <th>4208</th>\n",
       "      <td>46</td>\n",
       "      <td>19</td>\n",
       "      <td>3</td>\n",
       "      <td>2</td>\n",
       "      <td>3</td>\n",
       "      <td>0</td>\n",
       "      <td>6</td>\n",
       "      <td>22</td>\n",
       "    </tr>\n",
       "  </tbody>\n",
       "</table>\n",
       "<p>4209 rows × 8 columns</p>\n",
       "</div>"
      ],
      "text/plain": [
       "      X0  X1  X2  X3  X4  X5  X6  X8\n",
       "0     32  23  17   0   3  24   9  14\n",
       "1     32  21  19   4   3  28  11  14\n",
       "2     20  24  34   2   3  27   9  23\n",
       "3     20  21  34   5   3  27  11   4\n",
       "4     20  23  34   5   3  12   3  13\n",
       "...   ..  ..  ..  ..  ..  ..  ..  ..\n",
       "4204   8  20  16   2   3   0   3  16\n",
       "4205  31  16  40   3   3   0   7   7\n",
       "4206   8  23  38   0   3   0   6   4\n",
       "4207   9  19  25   5   3   0  11  20\n",
       "4208  46  19   3   2   3   0   6  22\n",
       "\n",
       "[4209 rows x 8 columns]"
      ]
     },
     "execution_count": 30,
     "metadata": {},
     "output_type": "execute_result"
    }
   ],
   "source": [
    "train_df[train_category_cols]"
   ]
  },
  {
   "cell_type": "code",
   "execution_count": 31,
   "id": "ac5e4eb6",
   "metadata": {},
   "outputs": [
    {
     "data": {
      "text/plain": [
       "array(['X0', 'X1', 'X2', 'X3', 'X4', 'X5', 'X6', 'X8'], dtype=object)"
      ]
     },
     "execution_count": 31,
     "metadata": {},
     "output_type": "execute_result"
    }
   ],
   "source": [
    "# Apply the same encoding to test columns. First find category columns in test data\n",
    "\n",
    "test_category_cols= np.array(test_df.select_dtypes('O').columns)\n",
    "test_category_cols"
   ]
  },
  {
   "cell_type": "code",
   "execution_count": 32,
   "id": "df512d71",
   "metadata": {},
   "outputs": [
    {
     "data": {
      "text/html": [
       "<div>\n",
       "<style scoped>\n",
       "    .dataframe tbody tr th:only-of-type {\n",
       "        vertical-align: middle;\n",
       "    }\n",
       "\n",
       "    .dataframe tbody tr th {\n",
       "        vertical-align: top;\n",
       "    }\n",
       "\n",
       "    .dataframe thead th {\n",
       "        text-align: right;\n",
       "    }\n",
       "</style>\n",
       "<table border=\"1\" class=\"dataframe\">\n",
       "  <thead>\n",
       "    <tr style=\"text-align: right;\">\n",
       "      <th></th>\n",
       "      <th>X0</th>\n",
       "      <th>X1</th>\n",
       "      <th>X2</th>\n",
       "      <th>X3</th>\n",
       "      <th>X4</th>\n",
       "      <th>X5</th>\n",
       "      <th>X6</th>\n",
       "      <th>X8</th>\n",
       "    </tr>\n",
       "  </thead>\n",
       "  <tbody>\n",
       "    <tr>\n",
       "      <th>0</th>\n",
       "      <td>az</td>\n",
       "      <td>v</td>\n",
       "      <td>n</td>\n",
       "      <td>f</td>\n",
       "      <td>d</td>\n",
       "      <td>t</td>\n",
       "      <td>a</td>\n",
       "      <td>w</td>\n",
       "    </tr>\n",
       "    <tr>\n",
       "      <th>1</th>\n",
       "      <td>t</td>\n",
       "      <td>b</td>\n",
       "      <td>ai</td>\n",
       "      <td>a</td>\n",
       "      <td>d</td>\n",
       "      <td>b</td>\n",
       "      <td>g</td>\n",
       "      <td>y</td>\n",
       "    </tr>\n",
       "    <tr>\n",
       "      <th>2</th>\n",
       "      <td>az</td>\n",
       "      <td>v</td>\n",
       "      <td>as</td>\n",
       "      <td>f</td>\n",
       "      <td>d</td>\n",
       "      <td>a</td>\n",
       "      <td>j</td>\n",
       "      <td>j</td>\n",
       "    </tr>\n",
       "    <tr>\n",
       "      <th>3</th>\n",
       "      <td>az</td>\n",
       "      <td>l</td>\n",
       "      <td>n</td>\n",
       "      <td>f</td>\n",
       "      <td>d</td>\n",
       "      <td>z</td>\n",
       "      <td>l</td>\n",
       "      <td>n</td>\n",
       "    </tr>\n",
       "    <tr>\n",
       "      <th>4</th>\n",
       "      <td>w</td>\n",
       "      <td>s</td>\n",
       "      <td>as</td>\n",
       "      <td>c</td>\n",
       "      <td>d</td>\n",
       "      <td>y</td>\n",
       "      <td>i</td>\n",
       "      <td>m</td>\n",
       "    </tr>\n",
       "    <tr>\n",
       "      <th>...</th>\n",
       "      <td>...</td>\n",
       "      <td>...</td>\n",
       "      <td>...</td>\n",
       "      <td>...</td>\n",
       "      <td>...</td>\n",
       "      <td>...</td>\n",
       "      <td>...</td>\n",
       "      <td>...</td>\n",
       "    </tr>\n",
       "    <tr>\n",
       "      <th>4204</th>\n",
       "      <td>aj</td>\n",
       "      <td>h</td>\n",
       "      <td>as</td>\n",
       "      <td>f</td>\n",
       "      <td>d</td>\n",
       "      <td>aa</td>\n",
       "      <td>j</td>\n",
       "      <td>e</td>\n",
       "    </tr>\n",
       "    <tr>\n",
       "      <th>4205</th>\n",
       "      <td>t</td>\n",
       "      <td>aa</td>\n",
       "      <td>ai</td>\n",
       "      <td>d</td>\n",
       "      <td>d</td>\n",
       "      <td>aa</td>\n",
       "      <td>j</td>\n",
       "      <td>y</td>\n",
       "    </tr>\n",
       "    <tr>\n",
       "      <th>4206</th>\n",
       "      <td>y</td>\n",
       "      <td>v</td>\n",
       "      <td>as</td>\n",
       "      <td>f</td>\n",
       "      <td>d</td>\n",
       "      <td>aa</td>\n",
       "      <td>d</td>\n",
       "      <td>w</td>\n",
       "    </tr>\n",
       "    <tr>\n",
       "      <th>4207</th>\n",
       "      <td>ak</td>\n",
       "      <td>v</td>\n",
       "      <td>as</td>\n",
       "      <td>a</td>\n",
       "      <td>d</td>\n",
       "      <td>aa</td>\n",
       "      <td>c</td>\n",
       "      <td>q</td>\n",
       "    </tr>\n",
       "    <tr>\n",
       "      <th>4208</th>\n",
       "      <td>t</td>\n",
       "      <td>aa</td>\n",
       "      <td>ai</td>\n",
       "      <td>c</td>\n",
       "      <td>d</td>\n",
       "      <td>aa</td>\n",
       "      <td>g</td>\n",
       "      <td>r</td>\n",
       "    </tr>\n",
       "  </tbody>\n",
       "</table>\n",
       "<p>4209 rows × 8 columns</p>\n",
       "</div>"
      ],
      "text/plain": [
       "      X0  X1  X2 X3 X4  X5 X6 X8\n",
       "0     az   v   n  f  d   t  a  w\n",
       "1      t   b  ai  a  d   b  g  y\n",
       "2     az   v  as  f  d   a  j  j\n",
       "3     az   l   n  f  d   z  l  n\n",
       "4      w   s  as  c  d   y  i  m\n",
       "...   ..  ..  .. .. ..  .. .. ..\n",
       "4204  aj   h  as  f  d  aa  j  e\n",
       "4205   t  aa  ai  d  d  aa  j  y\n",
       "4206   y   v  as  f  d  aa  d  w\n",
       "4207  ak   v  as  a  d  aa  c  q\n",
       "4208   t  aa  ai  c  d  aa  g  r\n",
       "\n",
       "[4209 rows x 8 columns]"
      ]
     },
     "execution_count": 32,
     "metadata": {},
     "output_type": "execute_result"
    }
   ],
   "source": [
    "test_df[test_category_cols]"
   ]
  },
  {
   "cell_type": "code",
   "execution_count": 33,
   "id": "c8b21e32",
   "metadata": {},
   "outputs": [],
   "source": [
    "for col in test_category_cols:\n",
    "    test_df[col]=label_enc.fit_transform(test_df[col])"
   ]
  },
  {
   "cell_type": "code",
   "execution_count": 34,
   "id": "c29f49b5",
   "metadata": {},
   "outputs": [
    {
     "data": {
      "text/html": [
       "<div>\n",
       "<style scoped>\n",
       "    .dataframe tbody tr th:only-of-type {\n",
       "        vertical-align: middle;\n",
       "    }\n",
       "\n",
       "    .dataframe tbody tr th {\n",
       "        vertical-align: top;\n",
       "    }\n",
       "\n",
       "    .dataframe thead th {\n",
       "        text-align: right;\n",
       "    }\n",
       "</style>\n",
       "<table border=\"1\" class=\"dataframe\">\n",
       "  <thead>\n",
       "    <tr style=\"text-align: right;\">\n",
       "      <th></th>\n",
       "      <th>X0</th>\n",
       "      <th>X1</th>\n",
       "      <th>X2</th>\n",
       "      <th>X3</th>\n",
       "      <th>X4</th>\n",
       "      <th>X5</th>\n",
       "      <th>X6</th>\n",
       "      <th>X8</th>\n",
       "    </tr>\n",
       "  </thead>\n",
       "  <tbody>\n",
       "    <tr>\n",
       "      <th>0</th>\n",
       "      <td>21</td>\n",
       "      <td>23</td>\n",
       "      <td>34</td>\n",
       "      <td>5</td>\n",
       "      <td>3</td>\n",
       "      <td>26</td>\n",
       "      <td>0</td>\n",
       "      <td>22</td>\n",
       "    </tr>\n",
       "    <tr>\n",
       "      <th>1</th>\n",
       "      <td>42</td>\n",
       "      <td>3</td>\n",
       "      <td>8</td>\n",
       "      <td>0</td>\n",
       "      <td>3</td>\n",
       "      <td>9</td>\n",
       "      <td>6</td>\n",
       "      <td>24</td>\n",
       "    </tr>\n",
       "    <tr>\n",
       "      <th>2</th>\n",
       "      <td>21</td>\n",
       "      <td>23</td>\n",
       "      <td>17</td>\n",
       "      <td>5</td>\n",
       "      <td>3</td>\n",
       "      <td>0</td>\n",
       "      <td>9</td>\n",
       "      <td>9</td>\n",
       "    </tr>\n",
       "    <tr>\n",
       "      <th>3</th>\n",
       "      <td>21</td>\n",
       "      <td>13</td>\n",
       "      <td>34</td>\n",
       "      <td>5</td>\n",
       "      <td>3</td>\n",
       "      <td>31</td>\n",
       "      <td>11</td>\n",
       "      <td>13</td>\n",
       "    </tr>\n",
       "    <tr>\n",
       "      <th>4</th>\n",
       "      <td>45</td>\n",
       "      <td>20</td>\n",
       "      <td>17</td>\n",
       "      <td>2</td>\n",
       "      <td>3</td>\n",
       "      <td>30</td>\n",
       "      <td>8</td>\n",
       "      <td>12</td>\n",
       "    </tr>\n",
       "    <tr>\n",
       "      <th>...</th>\n",
       "      <td>...</td>\n",
       "      <td>...</td>\n",
       "      <td>...</td>\n",
       "      <td>...</td>\n",
       "      <td>...</td>\n",
       "      <td>...</td>\n",
       "      <td>...</td>\n",
       "      <td>...</td>\n",
       "    </tr>\n",
       "    <tr>\n",
       "      <th>4204</th>\n",
       "      <td>6</td>\n",
       "      <td>9</td>\n",
       "      <td>17</td>\n",
       "      <td>5</td>\n",
       "      <td>3</td>\n",
       "      <td>1</td>\n",
       "      <td>9</td>\n",
       "      <td>4</td>\n",
       "    </tr>\n",
       "    <tr>\n",
       "      <th>4205</th>\n",
       "      <td>42</td>\n",
       "      <td>1</td>\n",
       "      <td>8</td>\n",
       "      <td>3</td>\n",
       "      <td>3</td>\n",
       "      <td>1</td>\n",
       "      <td>9</td>\n",
       "      <td>24</td>\n",
       "    </tr>\n",
       "    <tr>\n",
       "      <th>4206</th>\n",
       "      <td>47</td>\n",
       "      <td>23</td>\n",
       "      <td>17</td>\n",
       "      <td>5</td>\n",
       "      <td>3</td>\n",
       "      <td>1</td>\n",
       "      <td>3</td>\n",
       "      <td>22</td>\n",
       "    </tr>\n",
       "    <tr>\n",
       "      <th>4207</th>\n",
       "      <td>7</td>\n",
       "      <td>23</td>\n",
       "      <td>17</td>\n",
       "      <td>0</td>\n",
       "      <td>3</td>\n",
       "      <td>1</td>\n",
       "      <td>2</td>\n",
       "      <td>16</td>\n",
       "    </tr>\n",
       "    <tr>\n",
       "      <th>4208</th>\n",
       "      <td>42</td>\n",
       "      <td>1</td>\n",
       "      <td>8</td>\n",
       "      <td>2</td>\n",
       "      <td>3</td>\n",
       "      <td>1</td>\n",
       "      <td>6</td>\n",
       "      <td>17</td>\n",
       "    </tr>\n",
       "  </tbody>\n",
       "</table>\n",
       "<p>4209 rows × 8 columns</p>\n",
       "</div>"
      ],
      "text/plain": [
       "      X0  X1  X2  X3  X4  X5  X6  X8\n",
       "0     21  23  34   5   3  26   0  22\n",
       "1     42   3   8   0   3   9   6  24\n",
       "2     21  23  17   5   3   0   9   9\n",
       "3     21  13  34   5   3  31  11  13\n",
       "4     45  20  17   2   3  30   8  12\n",
       "...   ..  ..  ..  ..  ..  ..  ..  ..\n",
       "4204   6   9  17   5   3   1   9   4\n",
       "4205  42   1   8   3   3   1   9  24\n",
       "4206  47  23  17   5   3   1   3  22\n",
       "4207   7  23  17   0   3   1   2  16\n",
       "4208  42   1   8   2   3   1   6  17\n",
       "\n",
       "[4209 rows x 8 columns]"
      ]
     },
     "execution_count": 34,
     "metadata": {},
     "output_type": "execute_result"
    }
   ],
   "source": [
    "test_df[test_category_cols]"
   ]
  },
  {
   "cell_type": "markdown",
   "id": "f635a9a7",
   "metadata": {},
   "source": [
    "### Task 4 : Perform dimensionality reduction."
   ]
  },
  {
   "cell_type": "code",
   "execution_count": 35,
   "id": "5af4caea",
   "metadata": {},
   "outputs": [
    {
     "name": "stdout",
     "output_type": "stream",
     "text": [
      "(4209, 366)\n",
      "(4209, 365)\n"
     ]
    }
   ],
   "source": [
    "print(train_df.shape)\n",
    "print(test_df.shape)"
   ]
  },
  {
   "cell_type": "markdown",
   "id": "2dbde961",
   "metadata": {},
   "source": [
    "Remove the Target column from the train dataset before applying PCA for dimensionality reduction"
   ]
  },
  {
   "cell_type": "code",
   "execution_count": 36,
   "id": "337782d1",
   "metadata": {},
   "outputs": [
    {
     "data": {
      "text/plain": [
       "0       130.81\n",
       "1        88.53\n",
       "2        76.26\n",
       "3        80.62\n",
       "4        78.02\n",
       "         ...  \n",
       "4204    107.39\n",
       "4205    108.77\n",
       "4206    109.22\n",
       "4207     87.48\n",
       "4208    110.85\n",
       "Name: y, Length: 4209, dtype: float64"
      ]
     },
     "execution_count": 36,
     "metadata": {},
     "output_type": "execute_result"
    }
   ],
   "source": [
    "# Storing the target in a new variable \n",
    "\n",
    "train_target = train_df['y']\n",
    "train_target"
   ]
  },
  {
   "cell_type": "code",
   "execution_count": 37,
   "id": "ed18da9e",
   "metadata": {},
   "outputs": [],
   "source": [
    "train_df_data = train_df.drop([\"y\"],axis=1)"
   ]
  },
  {
   "cell_type": "code",
   "execution_count": 38,
   "id": "dc17f0e5",
   "metadata": {},
   "outputs": [
    {
     "data": {
      "text/plain": [
       "Index(['ID', 'X0', 'X1', 'X2', 'X3', 'X4', 'X5', 'X6', 'X8', 'X10',\n",
       "       ...\n",
       "       'X375', 'X376', 'X377', 'X378', 'X379', 'X380', 'X382', 'X383', 'X384',\n",
       "       'X385'],\n",
       "      dtype='object', length=365)"
      ]
     },
     "execution_count": 38,
     "metadata": {},
     "output_type": "execute_result"
    }
   ],
   "source": [
    "train_df_data.columns"
   ]
  },
  {
   "cell_type": "code",
   "execution_count": 39,
   "id": "3a6f4071",
   "metadata": {},
   "outputs": [
    {
     "data": {
      "text/plain": [
       "Index(['ID', 'X0', 'X1', 'X2', 'X3', 'X4', 'X5', 'X6', 'X8', 'X10',\n",
       "       ...\n",
       "       'X375', 'X376', 'X377', 'X378', 'X379', 'X380', 'X382', 'X383', 'X384',\n",
       "       'X385'],\n",
       "      dtype='object', length=365)"
      ]
     },
     "execution_count": 39,
     "metadata": {},
     "output_type": "execute_result"
    }
   ],
   "source": [
    "test_df.columns"
   ]
  },
  {
   "cell_type": "code",
   "execution_count": 40,
   "id": "5bb5dd90",
   "metadata": {},
   "outputs": [
    {
     "name": "stdout",
     "output_type": "stream",
     "text": [
      "(4209, 365)\n",
      "(4209, 365)\n"
     ]
    }
   ],
   "source": [
    "print(train_df_data.shape)\n",
    "print(test_df.shape)"
   ]
  },
  {
   "cell_type": "code",
   "execution_count": 41,
   "id": "de39eea1",
   "metadata": {},
   "outputs": [],
   "source": [
    "# Import StandardScaler and PCA class and instantiate objects for transforming data\n",
    "\n",
    "from sklearn.preprocessing import StandardScaler\n",
    "from sklearn.decomposition import PCA\n",
    "\n",
    "# set n_components to 95% of explained variance under PCA for dimensionality reduction\n",
    "sc = StandardScaler()\n",
    "pca = PCA(n_components=0.95)"
   ]
  },
  {
   "cell_type": "code",
   "execution_count": 42,
   "id": "24f82db6",
   "metadata": {},
   "outputs": [],
   "source": [
    "# First we apply standard scaler. We fit the scaler on Training data and same Transform applied to the test data\n",
    "\n",
    "sc.fit(train_df_data)\n",
    "\n",
    "# Apply same transformation to both Training and Test dataset\n",
    "train_std = sc.transform(train_df_data)\n",
    "test_std  = sc.transform(test_df)"
   ]
  },
  {
   "cell_type": "code",
   "execution_count": 43,
   "id": "5ac47f32",
   "metadata": {},
   "outputs": [],
   "source": [
    "# For PCA . We fit the PCA on the standardised Training data \n",
    "# Then same Transform PCA is applied to the test data\n",
    "\n",
    "pca.fit(train_std)\n",
    "\n",
    "# Apply same transformation to both Training and Test dataset\n",
    "train_pca = pca.transform(train_std)\n",
    "test_pca = pca.transform(test_std)"
   ]
  },
  {
   "cell_type": "code",
   "execution_count": 44,
   "id": "7394ab89",
   "metadata": {},
   "outputs": [
    {
     "data": {
      "text/plain": [
       "array([0.06873845, 0.05672831, 0.04525105, 0.03417386, 0.03255383,\n",
       "       0.03154186, 0.02854713, 0.02118177, 0.01968633, 0.01778935,\n",
       "       0.0163563 , 0.015601  , 0.0145906 , 0.01445648, 0.01344956,\n",
       "       0.01292573, 0.01241382, 0.01171394, 0.01119126, 0.01074961,\n",
       "       0.00989891, 0.0096776 , 0.00940046, 0.00908605, 0.00872347,\n",
       "       0.0084076 , 0.00792762, 0.00761389, 0.00734903, 0.00718305,\n",
       "       0.00691227, 0.00675052, 0.00655057, 0.00646544, 0.00621348,\n",
       "       0.00600246, 0.0058665 , 0.00574454, 0.00562534, 0.00555771,\n",
       "       0.00550145, 0.00538603, 0.00532449, 0.00523216, 0.00511352,\n",
       "       0.00501857, 0.00497724, 0.00477276, 0.0046579 , 0.00459137,\n",
       "       0.00446221, 0.0043733 , 0.00431693, 0.00429122, 0.00422545,\n",
       "       0.0041891 , 0.00413148, 0.00405572, 0.0040222 , 0.00388352,\n",
       "       0.00386855, 0.00380218, 0.00374184, 0.00365935, 0.00359751,\n",
       "       0.00357123, 0.0035294 , 0.00346016, 0.00341059, 0.00335091,\n",
       "       0.00332836, 0.0032594 , 0.00323873, 0.0032048 , 0.00316934,\n",
       "       0.00315804, 0.0031486 , 0.00308903, 0.00306594, 0.00303922,\n",
       "       0.00299867, 0.00298425, 0.00295864, 0.00292366, 0.0029006 ,\n",
       "       0.00289135, 0.00286429, 0.00284373, 0.0028264 , 0.00280433,\n",
       "       0.0027932 , 0.00276794, 0.00274409, 0.00273399, 0.00271654,\n",
       "       0.00270406, 0.0026484 , 0.00264044, 0.00261697, 0.0025998 ,\n",
       "       0.00258923, 0.00255473, 0.00253179, 0.00251264, 0.00250014,\n",
       "       0.00248148, 0.00243858, 0.00241888, 0.00240045, 0.00237785,\n",
       "       0.00234644, 0.00230577, 0.00230055, 0.00227058, 0.00225174,\n",
       "       0.00222925, 0.0022086 , 0.0021946 , 0.00214567, 0.00213139,\n",
       "       0.00211387, 0.00209153, 0.00205648, 0.00203631, 0.00202058,\n",
       "       0.00198862, 0.0019337 , 0.00191698, 0.00191371, 0.00188131,\n",
       "       0.001847  , 0.00181313, 0.00178889, 0.00178173, 0.00175136,\n",
       "       0.00171302, 0.00170264, 0.00167895, 0.0016536 , 0.00161437,\n",
       "       0.00160919, 0.00157355, 0.00154212, 0.00153118, 0.001496  ,\n",
       "       0.00149006, 0.00147679, 0.0014261 , 0.00140735])"
      ]
     },
     "execution_count": 44,
     "metadata": {},
     "output_type": "execute_result"
    }
   ],
   "source": [
    "pca.explained_variance_ratio_"
   ]
  },
  {
   "cell_type": "code",
   "execution_count": 45,
   "id": "7e73e78d",
   "metadata": {},
   "outputs": [
    {
     "data": {
      "text/plain": [
       "<function matplotlib.pyplot.show(close=None, block=None)>"
      ]
     },
     "execution_count": 45,
     "metadata": {},
     "output_type": "execute_result"
    },
    {
     "data": {
      "image/png": "[encoded data removed]",
      "text/plain": [
       "<Figure size 1440x720 with 1 Axes>"
      ]
     },
     "metadata": {
      "needs_background": "light"
     },
     "output_type": "display_data"
    }
   ],
   "source": [
    "# Plotting the Principal components that contribute to explain 95% of the variance in the data\n",
    "\n",
    "x = np.arange(len(pca.explained_variance_ratio_))\n",
    "y = pca.explained_variance_ratio_.cumsum()\n",
    "plt.figure(figsize=(20,10))\n",
    "plt.bar(x,y)\n",
    "plt.xlabel(\"Columns\")\n",
    "plt.ylabel(\"Explained Variance Cumulative\")\n",
    "plt.show"
   ]
  },
  {
   "cell_type": "code",
   "execution_count": 46,
   "id": "5ed2517c",
   "metadata": {
    "scrolled": true
   },
   "outputs": [
    {
     "name": "stdout",
     "output_type": "stream",
     "text": [
      "(4209, 149)\n",
      "(4209, 149)\n"
     ]
    }
   ],
   "source": [
    "print(train_pca.shape)\n",
    "print(test_pca.shape)"
   ]
  },
  {
   "cell_type": "markdown",
   "id": "9432e04e",
   "metadata": {},
   "source": [
    "PCA reduced the number of components to 149 as we specified the n_components = 0.95. PCA has considered only those components that together explain 95% of the variance in the data"
   ]
  },
  {
   "cell_type": "code",
   "execution_count": 47,
   "id": "51f08610",
   "metadata": {},
   "outputs": [],
   "source": [
    "train_pca_df = pd.DataFrame(data=train_pca)\n",
    "test_pca_df = pd.DataFrame(data=test_pca)"
   ]
  },
  {
   "cell_type": "code",
   "execution_count": 48,
   "id": "d4cc0741",
   "metadata": {
    "scrolled": true
   },
   "outputs": [
    {
     "name": "stdout",
     "output_type": "stream",
     "text": [
      "(4209, 149)\n",
      "(4209, 149)\n"
     ]
    }
   ],
   "source": [
    "print(train_pca_df.shape)\n",
    "print(test_pca_df.shape)"
   ]
  },
  {
   "cell_type": "code",
   "execution_count": 69,
   "id": "43176908",
   "metadata": {},
   "outputs": [
    {
     "data": {
      "text/plain": [
       "(149, 365)"
      ]
     },
     "execution_count": 69,
     "metadata": {},
     "output_type": "execute_result"
    }
   ],
   "source": [
    "pca.components_.shape"
   ]
  },
  {
   "cell_type": "markdown",
   "id": "8be27b48",
   "metadata": {},
   "source": [
    "### Task 5 : Predict your test_df values using XGBoost"
   ]
  },
  {
   "cell_type": "code",
   "execution_count": 49,
   "id": "8ffeba5f",
   "metadata": {},
   "outputs": [],
   "source": [
    "# Import XGBRegressor class from xgboost as target variable \"Y\" is a continous variable for Gradient boost.\n",
    "# XGBRegressor uses objective funtion default=reg:squarederror by default which is approriate for regression \n",
    "\n",
    "from xgboost import XGBRegressor"
   ]
  },
  {
   "cell_type": "code",
   "execution_count": 50,
   "id": "b01f0391",
   "metadata": {},
   "outputs": [],
   "source": [
    "# Creating instance of XGBRegressor\n",
    "\n",
    "xgb = XGBRegressor(random_state = 47)"
   ]
  },
  {
   "cell_type": "code",
   "execution_count": 51,
   "id": "a17ed452",
   "metadata": {},
   "outputs": [],
   "source": [
    "# Apply GridsearchCV for parameter tuning\n",
    "\n",
    "from sklearn.model_selection import GridSearchCV\n",
    "\n",
    "param_grid = {\n",
    "    'n_estimators':[100,150,200],\n",
    "    'max_depth':[1,2,3,4,5,None],\n",
    "    'learning_rate': [0.1,0.05,0.01,0.005]\n",
    "}"
   ]
  },
  {
   "cell_type": "code",
   "execution_count": 52,
   "id": "78657b8d",
   "metadata": {},
   "outputs": [],
   "source": [
    "gs = GridSearchCV(xgb,param_grid=param_grid,cv=3,verbose=2)"
   ]
  },
  {
   "cell_type": "code",
   "execution_count": 53,
   "id": "86abfa9d",
   "metadata": {},
   "outputs": [
    {
     "name": "stdout",
     "output_type": "stream",
     "text": [
      "Fitting 3 folds for each of 72 candidates, totalling 216 fits\n",
      "[CV] END ...learning_rate=0.1, max_depth=1, n_estimators=100; total time=   1.2s\n",
      "[CV] END ...learning_rate=0.1, max_depth=1, n_estimators=100; total time=   1.3s\n",
      "[CV] END ...learning_rate=0.1, max_depth=1, n_estimators=100; total time=   1.7s\n",
      "[CV] END ...learning_rate=0.1, max_depth=1, n_estimators=150; total time=   1.8s\n",
      "[CV] END ...learning_rate=0.1, max_depth=1, n_estimators=150; total time=   1.5s\n",
      "[CV] END ...learning_rate=0.1, max_depth=1, n_estimators=150; total time=   1.4s\n",
      "[CV] END ...learning_rate=0.1, max_depth=1, n_estimators=200; total time=   1.9s\n",
      "[CV] END ...learning_rate=0.1, max_depth=1, n_estimators=200; total time=   1.9s\n",
      "[CV] END ...learning_rate=0.1, max_depth=1, n_estimators=200; total time=   1.9s\n",
      "[CV] END ...learning_rate=0.1, max_depth=2, n_estimators=100; total time=   1.8s\n",
      "[CV] END ...learning_rate=0.1, max_depth=2, n_estimators=100; total time=   1.8s\n",
      "[CV] END ...learning_rate=0.1, max_depth=2, n_estimators=100; total time=   1.8s\n",
      "[CV] END ...learning_rate=0.1, max_depth=2, n_estimators=150; total time=   2.7s\n",
      "[CV] END ...learning_rate=0.1, max_depth=2, n_estimators=150; total time=   2.7s\n",
      "[CV] END ...learning_rate=0.1, max_depth=2, n_estimators=150; total time=   2.7s\n",
      "[CV] END ...learning_rate=0.1, max_depth=2, n_estimators=200; total time=   4.2s\n",
      "[CV] END ...learning_rate=0.1, max_depth=2, n_estimators=200; total time=   3.5s\n",
      "[CV] END ...learning_rate=0.1, max_depth=2, n_estimators=200; total time=   3.5s\n",
      "[CV] END ...learning_rate=0.1, max_depth=3, n_estimators=100; total time=   2.6s\n",
      "[CV] END ...learning_rate=0.1, max_depth=3, n_estimators=100; total time=   2.7s\n",
      "[CV] END ...learning_rate=0.1, max_depth=3, n_estimators=100; total time=   2.7s\n",
      "[CV] END ...learning_rate=0.1, max_depth=3, n_estimators=150; total time=   3.9s\n",
      "[CV] END ...learning_rate=0.1, max_depth=3, n_estimators=150; total time=   4.0s\n",
      "[CV] END ...learning_rate=0.1, max_depth=3, n_estimators=150; total time=   3.9s\n",
      "[CV] END ...learning_rate=0.1, max_depth=3, n_estimators=200; total time=   5.2s\n",
      "[CV] END ...learning_rate=0.1, max_depth=3, n_estimators=200; total time=   5.1s\n",
      "[CV] END ...learning_rate=0.1, max_depth=3, n_estimators=200; total time=   5.2s\n",
      "[CV] END ...learning_rate=0.1, max_depth=4, n_estimators=100; total time=   3.4s\n",
      "[CV] END ...learning_rate=0.1, max_depth=4, n_estimators=100; total time=   3.5s\n",
      "[CV] END ...learning_rate=0.1, max_depth=4, n_estimators=100; total time=   3.5s\n",
      "[CV] END ...learning_rate=0.1, max_depth=4, n_estimators=150; total time=   5.2s\n",
      "[CV] END ...learning_rate=0.1, max_depth=4, n_estimators=150; total time=   5.6s\n",
      "[CV] END ...learning_rate=0.1, max_depth=4, n_estimators=150; total time=   5.2s\n",
      "[CV] END ...learning_rate=0.1, max_depth=4, n_estimators=200; total time=   7.1s\n",
      "[CV] END ...learning_rate=0.1, max_depth=4, n_estimators=200; total time=   8.0s\n",
      "[CV] END ...learning_rate=0.1, max_depth=4, n_estimators=200; total time=   9.8s\n",
      "[CV] END ...learning_rate=0.1, max_depth=5, n_estimators=100; total time=   5.0s\n",
      "[CV] END ...learning_rate=0.1, max_depth=5, n_estimators=100; total time=   4.5s\n",
      "[CV] END ...learning_rate=0.1, max_depth=5, n_estimators=100; total time=   5.3s\n",
      "[CV] END ...learning_rate=0.1, max_depth=5, n_estimators=150; total time=   6.6s\n",
      "[CV] END ...learning_rate=0.1, max_depth=5, n_estimators=150; total time=   6.7s\n",
      "[CV] END ...learning_rate=0.1, max_depth=5, n_estimators=150; total time=   6.6s\n",
      "[CV] END ...learning_rate=0.1, max_depth=5, n_estimators=200; total time=   9.0s\n",
      "[CV] END ...learning_rate=0.1, max_depth=5, n_estimators=200; total time=   8.9s\n",
      "[CV] END ...learning_rate=0.1, max_depth=5, n_estimators=200; total time=   8.8s\n",
      "[CV] END learning_rate=0.1, max_depth=None, n_estimators=100; total time=   5.3s\n",
      "[CV] END learning_rate=0.1, max_depth=None, n_estimators=100; total time=   5.2s\n",
      "[CV] END learning_rate=0.1, max_depth=None, n_estimators=100; total time=   5.2s\n",
      "[CV] END learning_rate=0.1, max_depth=None, n_estimators=150; total time=   7.8s\n",
      "[CV] END learning_rate=0.1, max_depth=None, n_estimators=150; total time=   7.8s\n",
      "[CV] END learning_rate=0.1, max_depth=None, n_estimators=150; total time=   7.8s\n",
      "[CV] END learning_rate=0.1, max_depth=None, n_estimators=200; total time=  10.7s\n",
      "[CV] END learning_rate=0.1, max_depth=None, n_estimators=200; total time=  19.2s\n",
      "[CV] END learning_rate=0.1, max_depth=None, n_estimators=200; total time=  12.3s\n",
      "[CV] END ..learning_rate=0.05, max_depth=1, n_estimators=100; total time=   1.1s\n",
      "[CV] END ..learning_rate=0.05, max_depth=1, n_estimators=100; total time=   1.0s\n",
      "[CV] END ..learning_rate=0.05, max_depth=1, n_estimators=100; total time=   1.1s\n",
      "[CV] END ..learning_rate=0.05, max_depth=1, n_estimators=150; total time=   1.6s\n",
      "[CV] END ..learning_rate=0.05, max_depth=1, n_estimators=150; total time=   1.9s\n",
      "[CV] END ..learning_rate=0.05, max_depth=1, n_estimators=150; total time=   1.8s\n",
      "[CV] END ..learning_rate=0.05, max_depth=1, n_estimators=200; total time=   2.0s\n",
      "[CV] END ..learning_rate=0.05, max_depth=1, n_estimators=200; total time=   2.0s\n",
      "[CV] END ..learning_rate=0.05, max_depth=1, n_estimators=200; total time=   2.0s\n",
      "[CV] END ..learning_rate=0.05, max_depth=2, n_estimators=100; total time=   2.4s\n",
      "[CV] END ..learning_rate=0.05, max_depth=2, n_estimators=100; total time=   2.4s\n",
      "[CV] END ..learning_rate=0.05, max_depth=2, n_estimators=100; total time=   1.9s\n",
      "[CV] END ..learning_rate=0.05, max_depth=2, n_estimators=150; total time=   3.0s\n",
      "[CV] END ..learning_rate=0.05, max_depth=2, n_estimators=150; total time=   3.3s\n",
      "[CV] END ..learning_rate=0.05, max_depth=2, n_estimators=150; total time=   4.0s\n",
      "[CV] END ..learning_rate=0.05, max_depth=2, n_estimators=200; total time=   5.8s\n",
      "[CV] END ..learning_rate=0.05, max_depth=2, n_estimators=200; total time=   4.8s\n",
      "[CV] END ..learning_rate=0.05, max_depth=2, n_estimators=200; total time=   4.6s\n",
      "[CV] END ..learning_rate=0.05, max_depth=3, n_estimators=100; total time=   2.8s\n",
      "[CV] END ..learning_rate=0.05, max_depth=3, n_estimators=100; total time=   2.8s\n",
      "[CV] END ..learning_rate=0.05, max_depth=3, n_estimators=100; total time=   3.2s\n",
      "[CV] END ..learning_rate=0.05, max_depth=3, n_estimators=150; total time=   4.3s\n",
      "[CV] END ..learning_rate=0.05, max_depth=3, n_estimators=150; total time=   4.7s\n",
      "[CV] END ..learning_rate=0.05, max_depth=3, n_estimators=150; total time=   4.4s\n",
      "[CV] END ..learning_rate=0.05, max_depth=3, n_estimators=200; total time=   6.4s\n",
      "[CV] END ..learning_rate=0.05, max_depth=3, n_estimators=200; total time=   6.4s\n",
      "[CV] END ..learning_rate=0.05, max_depth=3, n_estimators=200; total time=   7.9s\n",
      "[CV] END ..learning_rate=0.05, max_depth=4, n_estimators=100; total time=   4.0s\n",
      "[CV] END ..learning_rate=0.05, max_depth=4, n_estimators=100; total time=   3.6s\n",
      "[CV] END ..learning_rate=0.05, max_depth=4, n_estimators=100; total time=   3.6s\n",
      "[CV] END ..learning_rate=0.05, max_depth=4, n_estimators=150; total time=   5.6s\n",
      "[CV] END ..learning_rate=0.05, max_depth=4, n_estimators=150; total time=   5.7s\n",
      "[CV] END ..learning_rate=0.05, max_depth=4, n_estimators=150; total time=   5.5s\n",
      "[CV] END ..learning_rate=0.05, max_depth=4, n_estimators=200; total time=   8.6s\n",
      "[CV] END ..learning_rate=0.05, max_depth=4, n_estimators=200; total time=   8.3s\n",
      "[CV] END ..learning_rate=0.05, max_depth=4, n_estimators=200; total time=   6.9s\n",
      "[CV] END ..learning_rate=0.05, max_depth=5, n_estimators=100; total time=   4.4s\n",
      "[CV] END ..learning_rate=0.05, max_depth=5, n_estimators=100; total time=   4.3s\n",
      "[CV] END ..learning_rate=0.05, max_depth=5, n_estimators=100; total time=   4.3s\n",
      "[CV] END ..learning_rate=0.05, max_depth=5, n_estimators=150; total time=   6.5s\n",
      "[CV] END ..learning_rate=0.05, max_depth=5, n_estimators=150; total time=   6.4s\n",
      "[CV] END ..learning_rate=0.05, max_depth=5, n_estimators=150; total time=   6.4s\n",
      "[CV] END ..learning_rate=0.05, max_depth=5, n_estimators=200; total time=   8.7s\n",
      "[CV] END ..learning_rate=0.05, max_depth=5, n_estimators=200; total time=   8.6s\n",
      "[CV] END ..learning_rate=0.05, max_depth=5, n_estimators=200; total time=   8.8s\n",
      "[CV] END learning_rate=0.05, max_depth=None, n_estimators=100; total time=   5.1s\n",
      "[CV] END learning_rate=0.05, max_depth=None, n_estimators=100; total time=   5.1s\n"
     ]
    },
    {
     "name": "stdout",
     "output_type": "stream",
     "text": [
      "[CV] END learning_rate=0.05, max_depth=None, n_estimators=100; total time=   5.0s\n",
      "[CV] END learning_rate=0.05, max_depth=None, n_estimators=150; total time=   7.6s\n",
      "[CV] END learning_rate=0.05, max_depth=None, n_estimators=150; total time=   7.7s\n",
      "[CV] END learning_rate=0.05, max_depth=None, n_estimators=150; total time=  10.1s\n",
      "[CV] END learning_rate=0.05, max_depth=None, n_estimators=200; total time=  10.6s\n",
      "[CV] END learning_rate=0.05, max_depth=None, n_estimators=200; total time=  11.7s\n",
      "[CV] END learning_rate=0.05, max_depth=None, n_estimators=200; total time=  10.7s\n",
      "[CV] END ..learning_rate=0.01, max_depth=1, n_estimators=100; total time=   1.0s\n",
      "[CV] END ..learning_rate=0.01, max_depth=1, n_estimators=100; total time=   1.0s\n",
      "[CV] END ..learning_rate=0.01, max_depth=1, n_estimators=100; total time=   1.2s\n",
      "[CV] END ..learning_rate=0.01, max_depth=1, n_estimators=150; total time=   1.5s\n",
      "[CV] END ..learning_rate=0.01, max_depth=1, n_estimators=150; total time=   1.5s\n",
      "[CV] END ..learning_rate=0.01, max_depth=1, n_estimators=150; total time=   1.7s\n",
      "[CV] END ..learning_rate=0.01, max_depth=1, n_estimators=200; total time=   1.9s\n",
      "[CV] END ..learning_rate=0.01, max_depth=1, n_estimators=200; total time=   1.9s\n",
      "[CV] END ..learning_rate=0.01, max_depth=1, n_estimators=200; total time=   2.2s\n",
      "[CV] END ..learning_rate=0.01, max_depth=2, n_estimators=100; total time=   1.8s\n",
      "[CV] END ..learning_rate=0.01, max_depth=2, n_estimators=100; total time=   2.1s\n",
      "[CV] END ..learning_rate=0.01, max_depth=2, n_estimators=100; total time=   1.8s\n",
      "[CV] END ..learning_rate=0.01, max_depth=2, n_estimators=150; total time=   2.9s\n",
      "[CV] END ..learning_rate=0.01, max_depth=2, n_estimators=150; total time=   2.7s\n",
      "[CV] END ..learning_rate=0.01, max_depth=2, n_estimators=150; total time=   3.3s\n",
      "[CV] END ..learning_rate=0.01, max_depth=2, n_estimators=200; total time=   4.3s\n",
      "[CV] END ..learning_rate=0.01, max_depth=2, n_estimators=200; total time=   4.0s\n",
      "[CV] END ..learning_rate=0.01, max_depth=2, n_estimators=200; total time=   3.8s\n",
      "[CV] END ..learning_rate=0.01, max_depth=3, n_estimators=100; total time=   3.6s\n",
      "[CV] END ..learning_rate=0.01, max_depth=3, n_estimators=100; total time=   3.8s\n",
      "[CV] END ..learning_rate=0.01, max_depth=3, n_estimators=100; total time=   4.6s\n",
      "[CV] END ..learning_rate=0.01, max_depth=3, n_estimators=150; total time=   6.4s\n",
      "[CV] END ..learning_rate=0.01, max_depth=3, n_estimators=150; total time=   4.1s\n",
      "[CV] END ..learning_rate=0.01, max_depth=3, n_estimators=150; total time=   4.0s\n",
      "[CV] END ..learning_rate=0.01, max_depth=3, n_estimators=200; total time=   5.4s\n",
      "[CV] END ..learning_rate=0.01, max_depth=3, n_estimators=200; total time=   5.7s\n",
      "[CV] END ..learning_rate=0.01, max_depth=3, n_estimators=200; total time=   5.3s\n",
      "[CV] END ..learning_rate=0.01, max_depth=4, n_estimators=100; total time=   3.7s\n",
      "[CV] END ..learning_rate=0.01, max_depth=4, n_estimators=100; total time=   3.6s\n",
      "[CV] END ..learning_rate=0.01, max_depth=4, n_estimators=100; total time=   3.5s\n",
      "[CV] END ..learning_rate=0.01, max_depth=4, n_estimators=150; total time=   5.4s\n",
      "[CV] END ..learning_rate=0.01, max_depth=4, n_estimators=150; total time=   5.3s\n",
      "[CV] END ..learning_rate=0.01, max_depth=4, n_estimators=150; total time=   5.5s\n",
      "[CV] END ..learning_rate=0.01, max_depth=4, n_estimators=200; total time=   7.0s\n",
      "[CV] END ..learning_rate=0.01, max_depth=4, n_estimators=200; total time=   7.7s\n",
      "[CV] END ..learning_rate=0.01, max_depth=4, n_estimators=200; total time=   7.3s\n",
      "[CV] END ..learning_rate=0.01, max_depth=5, n_estimators=100; total time=   4.2s\n",
      "[CV] END ..learning_rate=0.01, max_depth=5, n_estimators=100; total time=   4.3s\n",
      "[CV] END ..learning_rate=0.01, max_depth=5, n_estimators=100; total time=   4.2s\n",
      "[CV] END ..learning_rate=0.01, max_depth=5, n_estimators=150; total time=   6.3s\n",
      "[CV] END ..learning_rate=0.01, max_depth=5, n_estimators=150; total time=   6.5s\n",
      "[CV] END ..learning_rate=0.01, max_depth=5, n_estimators=150; total time=   6.1s\n",
      "[CV] END ..learning_rate=0.01, max_depth=5, n_estimators=200; total time=   8.4s\n",
      "[CV] END ..learning_rate=0.01, max_depth=5, n_estimators=200; total time=   8.6s\n",
      "[CV] END ..learning_rate=0.01, max_depth=5, n_estimators=200; total time=   8.3s\n",
      "[CV] END learning_rate=0.01, max_depth=None, n_estimators=100; total time=   4.5s\n",
      "[CV] END learning_rate=0.01, max_depth=None, n_estimators=100; total time=   4.5s\n",
      "[CV] END learning_rate=0.01, max_depth=None, n_estimators=100; total time=   4.5s\n",
      "[CV] END learning_rate=0.01, max_depth=None, n_estimators=150; total time=   7.4s\n",
      "[CV] END learning_rate=0.01, max_depth=None, n_estimators=150; total time=   8.8s\n",
      "[CV] END learning_rate=0.01, max_depth=None, n_estimators=150; total time=   7.8s\n",
      "[CV] END learning_rate=0.01, max_depth=None, n_estimators=200; total time=  10.9s\n",
      "[CV] END learning_rate=0.01, max_depth=None, n_estimators=200; total time=  10.0s\n",
      "[CV] END learning_rate=0.01, max_depth=None, n_estimators=200; total time=   9.6s\n",
      "[CV] END .learning_rate=0.005, max_depth=1, n_estimators=100; total time=   1.0s\n",
      "[CV] END .learning_rate=0.005, max_depth=1, n_estimators=100; total time=   1.0s\n",
      "[CV] END .learning_rate=0.005, max_depth=1, n_estimators=100; total time=   1.0s\n",
      "[CV] END .learning_rate=0.005, max_depth=1, n_estimators=150; total time=   1.4s\n",
      "[CV] END .learning_rate=0.005, max_depth=1, n_estimators=150; total time=   1.4s\n",
      "[CV] END .learning_rate=0.005, max_depth=1, n_estimators=150; total time=   1.5s\n",
      "[CV] END .learning_rate=0.005, max_depth=1, n_estimators=200; total time=   1.9s\n",
      "[CV] END .learning_rate=0.005, max_depth=1, n_estimators=200; total time=   1.9s\n",
      "[CV] END .learning_rate=0.005, max_depth=1, n_estimators=200; total time=   1.9s\n",
      "[CV] END .learning_rate=0.005, max_depth=2, n_estimators=100; total time=   1.8s\n",
      "[CV] END .learning_rate=0.005, max_depth=2, n_estimators=100; total time=   1.8s\n",
      "[CV] END .learning_rate=0.005, max_depth=2, n_estimators=100; total time=   1.8s\n",
      "[CV] END .learning_rate=0.005, max_depth=2, n_estimators=150; total time=   2.7s\n",
      "[CV] END .learning_rate=0.005, max_depth=2, n_estimators=150; total time=   3.3s\n",
      "[CV] END .learning_rate=0.005, max_depth=2, n_estimators=150; total time=   2.9s\n",
      "[CV] END .learning_rate=0.005, max_depth=2, n_estimators=200; total time=   4.3s\n",
      "[CV] END .learning_rate=0.005, max_depth=2, n_estimators=200; total time=   4.4s\n",
      "[CV] END .learning_rate=0.005, max_depth=2, n_estimators=200; total time=   3.8s\n",
      "[CV] END .learning_rate=0.005, max_depth=3, n_estimators=100; total time=   2.8s\n",
      "[CV] END .learning_rate=0.005, max_depth=3, n_estimators=100; total time=   2.6s\n",
      "[CV] END .learning_rate=0.005, max_depth=3, n_estimators=100; total time=   2.7s\n",
      "[CV] END .learning_rate=0.005, max_depth=3, n_estimators=150; total time=   4.0s\n",
      "[CV] END .learning_rate=0.005, max_depth=3, n_estimators=150; total time=   4.0s\n",
      "[CV] END .learning_rate=0.005, max_depth=3, n_estimators=150; total time=   3.9s\n",
      "[CV] END .learning_rate=0.005, max_depth=3, n_estimators=200; total time=   5.3s\n",
      "[CV] END .learning_rate=0.005, max_depth=3, n_estimators=200; total time=   5.2s\n",
      "[CV] END .learning_rate=0.005, max_depth=3, n_estimators=200; total time=   5.2s\n",
      "[CV] END .learning_rate=0.005, max_depth=4, n_estimators=100; total time=   3.4s\n",
      "[CV] END .learning_rate=0.005, max_depth=4, n_estimators=100; total time=   3.4s\n",
      "[CV] END .learning_rate=0.005, max_depth=4, n_estimators=100; total time=   3.4s\n",
      "[CV] END .learning_rate=0.005, max_depth=4, n_estimators=150; total time=   5.0s\n",
      "[CV] END .learning_rate=0.005, max_depth=4, n_estimators=150; total time=   5.3s\n",
      "[CV] END .learning_rate=0.005, max_depth=4, n_estimators=150; total time=   5.1s\n",
      "[CV] END .learning_rate=0.005, max_depth=4, n_estimators=200; total time=   6.7s\n",
      "[CV] END .learning_rate=0.005, max_depth=4, n_estimators=200; total time=   6.9s\n",
      "[CV] END .learning_rate=0.005, max_depth=4, n_estimators=200; total time=   7.2s\n",
      "[CV] END .learning_rate=0.005, max_depth=5, n_estimators=100; total time=   4.3s\n",
      "[CV] END .learning_rate=0.005, max_depth=5, n_estimators=100; total time=   4.3s\n",
      "[CV] END .learning_rate=0.005, max_depth=5, n_estimators=100; total time=   3.9s\n",
      "[CV] END .learning_rate=0.005, max_depth=5, n_estimators=150; total time=   6.2s\n"
     ]
    },
    {
     "name": "stdout",
     "output_type": "stream",
     "text": [
      "[CV] END .learning_rate=0.005, max_depth=5, n_estimators=150; total time=   6.4s\n",
      "[CV] END .learning_rate=0.005, max_depth=5, n_estimators=150; total time=   6.4s\n",
      "[CV] END .learning_rate=0.005, max_depth=5, n_estimators=200; total time=   8.5s\n",
      "[CV] END .learning_rate=0.005, max_depth=5, n_estimators=200; total time=   8.4s\n",
      "[CV] END .learning_rate=0.005, max_depth=5, n_estimators=200; total time=   8.3s\n",
      "[CV] END learning_rate=0.005, max_depth=None, n_estimators=100; total time=   4.5s\n",
      "[CV] END learning_rate=0.005, max_depth=None, n_estimators=100; total time=   4.6s\n",
      "[CV] END learning_rate=0.005, max_depth=None, n_estimators=100; total time=   4.1s\n",
      "[CV] END learning_rate=0.005, max_depth=None, n_estimators=150; total time=   6.8s\n",
      "[CV] END learning_rate=0.005, max_depth=None, n_estimators=150; total time=   6.5s\n",
      "[CV] END learning_rate=0.005, max_depth=None, n_estimators=150; total time=   7.7s\n",
      "[CV] END learning_rate=0.005, max_depth=None, n_estimators=200; total time=   9.3s\n",
      "[CV] END learning_rate=0.005, max_depth=None, n_estimators=200; total time=  13.4s\n",
      "[CV] END learning_rate=0.005, max_depth=None, n_estimators=200; total time=   9.0s\n"
     ]
    },
    {
     "data": {
      "text/plain": [
       "GridSearchCV(cv=3,\n",
       "             estimator=XGBRegressor(base_score=None, booster=None,\n",
       "                                    colsample_bylevel=None,\n",
       "                                    colsample_bynode=None,\n",
       "                                    colsample_bytree=None, gamma=None,\n",
       "                                    gpu_id=None, importance_type='gain',\n",
       "                                    interaction_constraints=None,\n",
       "                                    learning_rate=None, max_delta_step=None,\n",
       "                                    max_depth=None, min_child_weight=None,\n",
       "                                    missing=nan, monotone_constraints=None,\n",
       "                                    n_estimators=100, n_jobs=None,\n",
       "                                    num_parallel_tree=None, random_state=47,\n",
       "                                    reg_alpha=None, reg_lambda=None,\n",
       "                                    scale_pos_weight=None, subsample=None,\n",
       "                                    tree_method=None, validate_parameters=None,\n",
       "                                    verbosity=None),\n",
       "             param_grid={'learning_rate': [0.1, 0.05, 0.01, 0.005],\n",
       "                         'max_depth': [1, 2, 3, 4, 5, None],\n",
       "                         'n_estimators': [100, 150, 200]},\n",
       "             verbose=2)"
      ]
     },
     "execution_count": 53,
     "metadata": {},
     "output_type": "execute_result"
    }
   ],
   "source": [
    "gs.fit(train_pca_df,train_target)"
   ]
  },
  {
   "cell_type": "code",
   "execution_count": 54,
   "id": "87f94aa4",
   "metadata": {},
   "outputs": [
    {
     "data": {
      "text/plain": [
       "{'learning_rate': 0.05, 'max_depth': 3, 'n_estimators': 150}"
      ]
     },
     "execution_count": 54,
     "metadata": {},
     "output_type": "execute_result"
    }
   ],
   "source": [
    "# Find the best parameters as per Grid search CV run\n",
    "\n",
    "gs.best_params_"
   ]
  },
  {
   "cell_type": "code",
   "execution_count": 55,
   "id": "1d8c7360",
   "metadata": {
    "scrolled": true
   },
   "outputs": [
    {
     "data": {
      "text/plain": [
       "0.46624469597916357"
      ]
     },
     "execution_count": 55,
     "metadata": {},
     "output_type": "execute_result"
    }
   ],
   "source": [
    "gs.best_score_"
   ]
  },
  {
   "cell_type": "markdown",
   "id": "58ec36ff",
   "metadata": {},
   "source": [
    "##### Best params are : learning_rate : 0.05, max_depth : 3, n_estimators : 15.  \n",
    "This yeilded a score of 46.62%"
   ]
  },
  {
   "cell_type": "code",
   "execution_count": 56,
   "id": "aea248eb",
   "metadata": {},
   "outputs": [],
   "source": [
    "# Performing K-fold cross validation using the best params from Grid search\n",
    "\n",
    "from sklearn.model_selection import KFold\n",
    "from sklearn.model_selection import cross_val_score\n",
    "\n",
    "kfoldcv = KFold(n_splits=10,shuffle=True)\n",
    "model = XGBRegressor(n_estimators=150,booster = \"gbtree\",learning_rate = 0.05,max_depth = 3,random_state=47)\n",
    "results = cross_val_score(model,train_pca_df,train_target,cv=kfoldcv)"
   ]
  },
  {
   "cell_type": "code",
   "execution_count": 57,
   "id": "edf120d7",
   "metadata": {},
   "outputs": [
    {
     "data": {
      "text/plain": [
       "array([0.57598522, 0.31803189, 0.50120766, 0.54004883, 0.49836927,\n",
       "       0.53608859, 0.48625887, 0.50787618, 0.52921395, 0.56113943])"
      ]
     },
     "execution_count": 57,
     "metadata": {},
     "output_type": "execute_result"
    }
   ],
   "source": [
    "results"
   ]
  },
  {
   "cell_type": "code",
   "execution_count": 58,
   "id": "d00e6c90",
   "metadata": {},
   "outputs": [
    {
     "data": {
      "text/plain": [
       "0.5054219891509579"
      ]
     },
     "execution_count": 58,
     "metadata": {},
     "output_type": "execute_result"
    }
   ],
   "source": [
    "results.mean()"
   ]
  },
  {
   "cell_type": "code",
   "execution_count": 59,
   "id": "715db2bb",
   "metadata": {},
   "outputs": [
    {
     "data": {
      "text/plain": [
       "XGBRegressor(base_score=0.5, booster='gbtree', colsample_bylevel=1,\n",
       "             colsample_bynode=1, colsample_bytree=1, gamma=0, gpu_id=-1,\n",
       "             importance_type='gain', interaction_constraints='',\n",
       "             learning_rate=0.05, max_delta_step=0, max_depth=3,\n",
       "             min_child_weight=1, missing=nan, monotone_constraints='()',\n",
       "             n_estimators=150, n_jobs=4, num_parallel_tree=1, random_state=47,\n",
       "             reg_alpha=0, reg_lambda=1, scale_pos_weight=1, subsample=1,\n",
       "             tree_method='exact', validate_parameters=1, verbosity=None)"
      ]
     },
     "execution_count": 59,
     "metadata": {},
     "output_type": "execute_result"
    }
   ],
   "source": [
    "#Final fitting and XGBoost prediction on the train data\n",
    "\n",
    "model.fit(train_pca_df,train_target)"
   ]
  },
  {
   "cell_type": "code",
   "execution_count": 60,
   "id": "e8a90998",
   "metadata": {},
   "outputs": [
    {
     "data": {
      "text/plain": [
       "0.6235282887802929"
      ]
     },
     "execution_count": 60,
     "metadata": {},
     "output_type": "execute_result"
    }
   ],
   "source": [
    "model.score(train_pca_df,train_target)"
   ]
  },
  {
   "cell_type": "markdown",
   "id": "94ac75d3",
   "metadata": {},
   "source": [
    "The model has 62% accuracy score on the Train data"
   ]
  },
  {
   "cell_type": "code",
   "execution_count": 61,
   "id": "2b90851d",
   "metadata": {
    "scrolled": false
   },
   "outputs": [
    {
     "data": {
      "text/plain": [
       "array([ 92.38335 , 108.01243 ,  95.06007 , ...,  97.448654, 109.365845,\n",
       "        94.79843 ], dtype=float32)"
      ]
     },
     "execution_count": 61,
     "metadata": {},
     "output_type": "execute_result"
    }
   ],
   "source": [
    "# Apply the model to predict the test data\n",
    "\n",
    "model.predict(test_pca_df)"
   ]
  },
  {
   "cell_type": "markdown",
   "id": "fadb9171",
   "metadata": {},
   "source": [
    "Test data prediction generated.Accuracy cannot be evaluated as the actual target values are not known for test data. As per k-fold this model should be about 50% accurate on average on the unseen test data"
   ]
  },
  {
   "cell_type": "code",
   "execution_count": 62,
   "id": "1a4c8d2f",
   "metadata": {},
   "outputs": [],
   "source": [
    "# Evaluating and reviewing the Train data predictions\n",
    "\n",
    "train_df['predicted_y']=model.predict(train_pca_df)"
   ]
  },
  {
   "cell_type": "code",
   "execution_count": 63,
   "id": "dbed1ba4",
   "metadata": {},
   "outputs": [
    {
     "data": {
      "text/html": [
       "<div>\n",
       "<style scoped>\n",
       "    .dataframe tbody tr th:only-of-type {\n",
       "        vertical-align: middle;\n",
       "    }\n",
       "\n",
       "    .dataframe tbody tr th {\n",
       "        vertical-align: top;\n",
       "    }\n",
       "\n",
       "    .dataframe thead th {\n",
       "        text-align: right;\n",
       "    }\n",
       "</style>\n",
       "<table border=\"1\" class=\"dataframe\">\n",
       "  <thead>\n",
       "    <tr style=\"text-align: right;\">\n",
       "      <th></th>\n",
       "      <th>y</th>\n",
       "      <th>predicted_y</th>\n",
       "    </tr>\n",
       "  </thead>\n",
       "  <tbody>\n",
       "    <tr>\n",
       "      <th>0</th>\n",
       "      <td>130.81</td>\n",
       "      <td>116.560814</td>\n",
       "    </tr>\n",
       "    <tr>\n",
       "      <th>1</th>\n",
       "      <td>88.53</td>\n",
       "      <td>95.592178</td>\n",
       "    </tr>\n",
       "    <tr>\n",
       "      <th>2</th>\n",
       "      <td>76.26</td>\n",
       "      <td>80.175461</td>\n",
       "    </tr>\n",
       "    <tr>\n",
       "      <th>3</th>\n",
       "      <td>80.62</td>\n",
       "      <td>81.237762</td>\n",
       "    </tr>\n",
       "    <tr>\n",
       "      <th>4</th>\n",
       "      <td>78.02</td>\n",
       "      <td>79.686218</td>\n",
       "    </tr>\n",
       "    <tr>\n",
       "      <th>...</th>\n",
       "      <td>...</td>\n",
       "      <td>...</td>\n",
       "    </tr>\n",
       "    <tr>\n",
       "      <th>4204</th>\n",
       "      <td>107.39</td>\n",
       "      <td>106.103943</td>\n",
       "    </tr>\n",
       "    <tr>\n",
       "      <th>4205</th>\n",
       "      <td>108.77</td>\n",
       "      <td>108.158813</td>\n",
       "    </tr>\n",
       "    <tr>\n",
       "      <th>4206</th>\n",
       "      <td>109.22</td>\n",
       "      <td>111.268692</td>\n",
       "    </tr>\n",
       "    <tr>\n",
       "      <th>4207</th>\n",
       "      <td>87.48</td>\n",
       "      <td>96.644402</td>\n",
       "    </tr>\n",
       "    <tr>\n",
       "      <th>4208</th>\n",
       "      <td>110.85</td>\n",
       "      <td>97.427582</td>\n",
       "    </tr>\n",
       "  </tbody>\n",
       "</table>\n",
       "<p>4209 rows × 2 columns</p>\n",
       "</div>"
      ],
      "text/plain": [
       "           y  predicted_y\n",
       "0     130.81   116.560814\n",
       "1      88.53    95.592178\n",
       "2      76.26    80.175461\n",
       "3      80.62    81.237762\n",
       "4      78.02    79.686218\n",
       "...      ...          ...\n",
       "4204  107.39   106.103943\n",
       "4205  108.77   108.158813\n",
       "4206  109.22   111.268692\n",
       "4207   87.48    96.644402\n",
       "4208  110.85    97.427582\n",
       "\n",
       "[4209 rows x 2 columns]"
      ]
     },
     "execution_count": 63,
     "metadata": {},
     "output_type": "execute_result"
    }
   ],
   "source": [
    "result_df = train_df.loc[:,[\"y\",\"predicted_y\"]]\n",
    "result_df"
   ]
  },
  {
   "cell_type": "code",
   "execution_count": 64,
   "id": "11db9c13",
   "metadata": {
    "scrolled": true
   },
   "outputs": [
    {
     "data": {
      "text/plain": [
       "<BarContainer object of 4209 artists>"
      ]
     },
     "execution_count": 64,
     "metadata": {},
     "output_type": "execute_result"
    },
    {
     "data": {
      "image/png": "[encoded data removed]",
      "text/plain": [
       "<Figure size 1152x720 with 1 Axes>"
      ]
     },
     "metadata": {
      "needs_background": "light"
     },
     "output_type": "display_data"
    }
   ],
   "source": [
    "# Creating plot to show differences or error between y and predicted y for train dataset. \n",
    "# Since the target is only part of the train data \n",
    "plt.figure(figsize=(16,10))\n",
    "plt.bar(np.arange(4209),result_df[\"y\"]-result_df[\"predicted_y\"])"
   ]
  }
 ],
 "metadata": {
  "kernelspec": {
   "display_name": "Python 3",
   "language": "python",
   "name": "python3"
  },
  "language_info": {
   "codemirror_mode": {
    "name": "ipython",
    "version": 3
   },
   "file_extension": ".py",
   "mimetype": "text/x-python",
   "name": "python",
   "nbconvert_exporter": "python",
   "pygments_lexer": "ipython3",
   "version": "3.8.8"
  }
 },
 "nbformat": 4,
 "nbformat_minor": 5
}
